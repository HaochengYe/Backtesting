{
 "cells": [
  {
   "cell_type": "code",
   "execution_count": 1,
   "metadata": {},
   "outputs": [],
   "source": [
    "import os\n",
    "import pandas as pd\n",
    "import numpy as np\n",
    "import statsmodels.api as sm\n",
    "import matplotlib.pyplot as plt\n",
    "from datetime import datetime\n",
    "import xgboost as xgb"
   ]
  },
  {
   "cell_type": "code",
   "execution_count": 2,
   "metadata": {},
   "outputs": [
    {
     "data": {
      "text/plain": [
       "'D:\\\\GitHub\\\\Backtesting'"
      ]
     },
     "execution_count": 2,
     "metadata": {},
     "output_type": "execute_result"
    }
   ],
   "source": [
    "os.getcwd()"
   ]
  },
  {
   "cell_type": "code",
   "execution_count": 3,
   "metadata": {},
   "outputs": [],
   "source": [
    "dta = pd.read_csv(\"broader_stock.csv\")"
   ]
  },
  {
   "cell_type": "code",
   "execution_count": 4,
   "metadata": {},
   "outputs": [],
   "source": [
    "def data_preprocess(dta):\n",
    "    dta['Date'] = pd.to_datetime(dta['Date'], format='%Y-%m-%d')\n",
    "    dta = dta.set_index(dta['Date'])\n",
    "    # NHLI not traded\n",
    "    dta.drop(['Date', 'NHLI'], axis=1, inplace=True)\n",
    "    dta.dropna(how='all', inplace=True)\n",
    "    for tick in dta.columns:\n",
    "        tick_series = dta[tick]\n",
    "        start_pos = tick_series.first_valid_index()\n",
    "        valid_series = tick_series.loc[start_pos:]\n",
    "        if valid_series.isna().sum() > 0:\n",
    "            dta.drop(tick, axis=1, inplace=True)\n",
    "\n",
    "    for tick in dta.columns:\n",
    "        dta[tick] = dta[tick].mask(dta[tick] == 0).ffill(downcast='infer')\n",
    "\n",
    "    return dta[dta.index >= dta['SPY'].first_valid_index()]"
   ]
  },
  {
   "cell_type": "code",
   "execution_count": 5,
   "metadata": {},
   "outputs": [],
   "source": [
    "dta = data_preprocess(dta)"
   ]
  },
  {
   "cell_type": "code",
   "execution_count": 6,
   "metadata": {},
   "outputs": [
    {
     "name": "stderr",
     "output_type": "stream",
     "text": [
      "C:\\Users\\Andyy\\Anaconda3\\lib\\site-packages\\ipykernel_launcher.py:4: SettingWithCopyWarning: \n",
      "A value is trying to be set on a copy of a slice from a DataFrame.\n",
      "Try using .loc[row_indexer,col_indexer] = value instead\n",
      "\n",
      "See the caveats in the documentation: https://pandas.pydata.org/pandas-docs/stable/user_guide/indexing.html#returning-a-view-versus-a-copy\n",
      "  after removing the cwd from sys.path.\n",
      "C:\\Users\\Andyy\\Anaconda3\\lib\\site-packages\\ipykernel_launcher.py:5: SettingWithCopyWarning: \n",
      "A value is trying to be set on a copy of a slice from a DataFrame\n",
      "\n",
      "See the caveats in the documentation: https://pandas.pydata.org/pandas-docs/stable/user_guide/indexing.html#returning-a-view-versus-a-copy\n",
      "  \"\"\"\n"
     ]
    }
   ],
   "source": [
    "t = \"TSLA\"\n",
    "\n",
    "temp_dta = dta[dta[t].notnull()]\n",
    "temp_dta['%s_LAG' % t] = temp_dta['%s' % t].shift(-1)\n",
    "temp_dta.dropna(inplace=True)"
   ]
  },
  {
   "cell_type": "code",
   "execution_count": 8,
   "metadata": {},
   "outputs": [],
   "source": [
    "cointegrat = {}\n",
    "correlat = {}\n",
    "\n",
    "for col in temp_dta.columns[:-1]:\n",
    "    x = temp_dta[col]\n",
    "    score, pval, _ = sm.tsa.coint(x, temp_dta['%s_LAG' % t])\n",
    "    corr = abs(x.corr(temp_dta['%s_LAG' % t]))\n",
    "    cointegrat[col] = pval\n",
    "    correlat[col] = corr\n",
    "\n",
    "best_coint = sorted(cointegrat, key=cointegrat.get)[:50]\n",
    "best_corr = sorted(correlat, key=correlat.get, reverse=True)[:50]\n",
    "union_X = list(set(best_coint) | set(best_corr))"
   ]
  },
  {
   "cell_type": "code",
   "execution_count": 0,
   "metadata": {},
   "outputs": [],
   "source": []
  }
 ],
 "metadata": {
  "kernelspec": {
   "display_name": "Python 3",
   "language": "python",
   "name": "python3"
  },
  "language_info": {
   "codemirror_mode": {
    "name": "ipython",
    "version": 3
   },
   "file_extension": ".py",
   "mimetype": "text/x-python",
   "name": "python",
   "nbconvert_exporter": "python",
   "pygments_lexer": "ipython3",
   "version": "3.7.7"
  }
 },
 "nbformat": 4,
 "nbformat_minor": 1
}
