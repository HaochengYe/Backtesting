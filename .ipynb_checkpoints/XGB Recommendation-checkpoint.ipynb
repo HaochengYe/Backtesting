{
 "cells": [
  {
   "cell_type": "code",
   "execution_count": 1,
   "metadata": {},
   "outputs": [],
   "source": [
    "import os\n",
    "import pandas as pd\n",
    "import numpy as np\n",
    "import statsmodels.api as sm\n",
    "import matplotlib.pyplot as plt\n",
    "from datetime import datetime\n",
    "import xgboost as xgb\n",
    "from sklearn.model_selection import train_test_split"
   ]
  },
  {
   "cell_type": "code",
   "execution_count": 2,
   "metadata": {},
   "outputs": [
    {
     "data": {
      "text/plain": [
       "'D:\\\\GitHub\\\\Backtesting'"
      ]
     },
     "execution_count": 2,
     "metadata": {},
     "output_type": "execute_result"
    }
   ],
   "source": [
    "os.getcwd()"
   ]
  },
  {
   "cell_type": "code",
   "execution_count": 3,
   "metadata": {},
   "outputs": [],
   "source": [
    "dta = pd.read_csv(\"broader_stock.csv\")"
   ]
  },
  {
   "cell_type": "code",
   "execution_count": 4,
   "metadata": {},
   "outputs": [],
   "source": [
    "def data_preprocess(dta):\n",
    "    dta['Date'] = pd.to_datetime(dta['Date'], format='%Y-%m-%d')\n",
    "    dta = dta.set_index(dta['Date'])\n",
    "    # NHLI not traded\n",
    "    dta.drop(['Date', 'NHLI'], axis=1, inplace=True)\n",
    "    dta.dropna(how='all', inplace=True)\n",
    "    for tick in dta.columns:\n",
    "        tick_series = dta[tick]\n",
    "        start_pos = tick_series.first_valid_index()\n",
    "        valid_series = tick_series.loc[start_pos:]\n",
    "        if valid_series.isna().sum() > 0:\n",
    "            dta.drop(tick, axis=1, inplace=True)\n",
    "\n",
    "    for tick in dta.columns:\n",
    "        dta[tick] = dta[tick].mask(dta[tick] == 0).ffill(downcast='infer')\n",
    "\n",
    "    return dta[dta.index >= dta['SPY'].first_valid_index()]"
   ]
  },
  {
   "cell_type": "code",
   "execution_count": 5,
   "metadata": {},
   "outputs": [],
   "source": [
    "dta = data_preprocess(dta)\n",
    "pct_dta = dta.pct_change()"
   ]
  },
  {
   "cell_type": "code",
   "execution_count": 6,
   "metadata": {},
   "outputs": [
    {
     "name": "stderr",
     "output_type": "stream",
     "text": [
      "C:\\Users\\Andyy\\Anaconda3\\lib\\site-packages\\ipykernel_launcher.py:4: SettingWithCopyWarning: \n",
      "A value is trying to be set on a copy of a slice from a DataFrame.\n",
      "Try using .loc[row_indexer,col_indexer] = value instead\n",
      "\n",
      "See the caveats in the documentation: https://pandas.pydata.org/pandas-docs/stable/user_guide/indexing.html#returning-a-view-versus-a-copy\n",
      "  after removing the cwd from sys.path.\n",
      "C:\\Users\\Andyy\\Anaconda3\\lib\\site-packages\\ipykernel_launcher.py:5: SettingWithCopyWarning: \n",
      "A value is trying to be set on a copy of a slice from a DataFrame\n",
      "\n",
      "See the caveats in the documentation: https://pandas.pydata.org/pandas-docs/stable/user_guide/indexing.html#returning-a-view-versus-a-copy\n",
      "  \"\"\"\n"
     ]
    }
   ],
   "source": [
    "t = \"TSLA\"\n",
    "\n",
    "temp_dta = pct_dta[pct_dta[t].notnull()]\n",
    "temp_dta['%s_LAG' % t] = temp_dta['%s' % t].shift(-1)\n",
    "temp_dta.dropna(inplace=True)"
   ]
  },
  {
   "cell_type": "code",
   "execution_count": 7,
   "metadata": {},
   "outputs": [],
   "source": [
    "cointegrat = {}\n",
    "correlat = {}\n",
    "\n",
    "for col in temp_dta.columns[:-1]:\n",
    "    x = temp_dta[col]\n",
    "    score, pval, _ = sm.tsa.coint(x, temp_dta['%s_LAG' % t], autolag='bic')\n",
    "    corr = abs(x.corr(temp_dta['%s_LAG' % t]))\n",
    "    cointegrat[col] = pval\n",
    "    correlat[col] = corr\n",
    "\n",
    "best_coint = sorted(cointegrat, key=cointegrat.get)[:50]\n",
    "best_corr = sorted(correlat, key=correlat.get, reverse=True)[:50]\n",
    "union_X = list(set(best_coint) | set(best_corr))"
   ]
  },
  {
   "cell_type": "code",
   "execution_count": 17,
   "metadata": {},
   "outputs": [],
   "source": [
    "lag_1_res = pd.read_csv(\"XGB_Pred_1.csv\")\n"
   ]
  },
  {
   "cell_type": "code",
   "execution_count": 85,
   "metadata": {},
   "outputs": [
    {
     "data": {
      "text/plain": [
       "['NVDA', 'SEDG', 'TQQQ', 'UVXY', 'TSLA', 'AMD']"
      ]
     },
     "execution_count": 85,
     "metadata": {},
     "output_type": "execute_result"
    }
   ],
   "source": [
    "list(set(lag_1_res['Unnamed: 0'][:10]) | set(['TQQQ', 'UVXY']))"
   ]
  },
  {
   "cell_type": "code",
   "execution_count": 102,
   "metadata": {},
   "outputs": [
    {
     "data": {
      "text/plain": [
       "1"
      ]
     },
     "execution_count": 102,
     "metadata": {},
     "output_type": "execute_result"
    }
   ],
   "source": [
    "lag_1_res[lag_1_res['Unnamed: 0'] == 'TQQQ'].sort_values('sharpe', ascending=False)['Unnamed: 1'].iloc[0]"
   ]
  },
  {
   "cell_type": "code",
   "execution_count": null,
   "metadata": {},
   "outputs": [],
   "source": []
  },
  {
   "cell_type": "code",
   "execution_count": 8,
   "metadata": {},
   "outputs": [
    {
     "name": "stdout",
     "output_type": "stream",
     "text": [
      "[0]\tTest-auc:0.443279\n",
      "Will train until Test-auc hasn't improved in 10 rounds.\n",
      "[1]\tTest-auc:0.480164\n",
      "[2]\tTest-auc:0.513934\n",
      "[3]\tTest-auc:0.459672\n",
      "[4]\tTest-auc:0.450656\n",
      "[5]\tTest-auc:0.470164\n",
      "[6]\tTest-auc:0.422623\n",
      "[7]\tTest-auc:0.395082\n",
      "[8]\tTest-auc:0.398852\n",
      "[9]\tTest-auc:0.437541\n",
      "[10]\tTest-auc:0.413607\n",
      "[11]\tTest-auc:0.407705\n",
      "[12]\tTest-auc:0.446721\n",
      "Stopping. Best iteration:\n",
      "[2]\tTest-auc:0.513934\n",
      "\n"
     ]
    }
   ],
   "source": [
    "X = temp_dta[best_corr].values\n",
    "y = temp_dta['%s_LAG' % t].values\n",
    "y = (y > 0).astype(int)\n",
    "\n",
    "X_train, X_test, y_train, y_test = train_test_split(X, y, test_size=0.2, shuffle=True, random_state=42,\n",
    "                                                    stratify=y)\n",
    "dtrain = xgb.DMatrix(X_train, label=y_train)\n",
    "dtest = xgb.DMatrix(X_test, label=y_test)\n",
    "\n",
    "params = {\n",
    "    # Parameters that we are going to tune.\n",
    "    'max_depth': 2,\n",
    "    'min_child_weight': 1,\n",
    "    'eta': .3,\n",
    "    'subsample': 1,\n",
    "    'colsample_bytree': 1,\n",
    "    # Other parameters\n",
    "    'objective': 'binary:logistic',\n",
    "    'eval_metric': 'auc'\n",
    "}\n",
    "\n",
    "model = xgb.train(\n",
    "    params,\n",
    "    dtrain,\n",
    "    num_boost_round=1000,\n",
    "    evals=[(dtest, \"Test\")],\n",
    "    early_stopping_rounds=10\n",
    ")"
   ]
  },
  {
   "cell_type": "code",
   "execution_count": 10,
   "metadata": {},
   "outputs": [],
   "source": [
    "y_pred = model.predict(dtest)\n"
   ]
  },
  {
   "cell_type": "code",
   "execution_count": 12,
   "metadata": {},
   "outputs": [],
   "source": [
    "y_pred = (y_pred > 0.5).astype(int)"
   ]
  },
  {
   "cell_type": "code",
   "execution_count": 16,
   "metadata": {},
   "outputs": [],
   "source": [
    "from sklearn.metrics import accuracy_score"
   ]
  },
  {
   "cell_type": "code",
   "execution_count": 17,
   "metadata": {},
   "outputs": [
    {
     "data": {
      "text/plain": [
       "0.4864864864864865"
      ]
     },
     "execution_count": 17,
     "metadata": {},
     "output_type": "execute_result"
    }
   ],
   "source": [
    "accuracy_score(y_true=y_test, y_pred=y_pred)"
   ]
  },
  {
   "cell_type": "markdown",
   "metadata": {},
   "source": [
    "# Time Series"
   ]
  },
  {
   "cell_type": "code",
   "execution_count": 20,
   "metadata": {},
   "outputs": [],
   "source": [
    "import statsmodels.api as sm\n",
    "from statsmodels.tsa.ar_model import AutoReg"
   ]
  },
  {
   "cell_type": "code",
   "execution_count": 24,
   "metadata": {},
   "outputs": [],
   "source": [
    "y = temp_dta['%s_LAG' % t].values\n",
    "y_train = y[:int(y.shape[0] * 0.8)]\n",
    "y_test = y[int(y.shape[0] * 0.8):]"
   ]
  },
  {
   "cell_type": "code",
   "execution_count": 48,
   "metadata": {},
   "outputs": [],
   "source": [
    "mod = AutoReg(y_train, lags=10).fit('HC3')"
   ]
  },
  {
   "cell_type": "code",
   "execution_count": 58,
   "metadata": {},
   "outputs": [],
   "source": [
    "y_pred = mod.predict()[:111]"
   ]
  },
  {
   "cell_type": "code",
   "execution_count": 70,
   "metadata": {},
   "outputs": [],
   "source": [
    "bi_pred = (y_pred > 0).astype(int)\n",
    "bi_test = (y_test > 0).astype(int)"
   ]
  },
  {
   "cell_type": "code",
   "execution_count": 73,
   "metadata": {},
   "outputs": [
    {
     "data": {
      "text/plain": [
       "0.5855855855855856"
      ]
     },
     "execution_count": 73,
     "metadata": {},
     "output_type": "execute_result"
    }
   ],
   "source": [
    "accuracy_score(bi_pred, bi_test)"
   ]
  },
  {
   "cell_type": "code",
   "execution_count": null,
   "metadata": {},
   "outputs": [],
   "source": []
  },
  {
   "cell_type": "code",
   "execution_count": null,
   "metadata": {},
   "outputs": [],
   "source": []
  },
  {
   "cell_type": "code",
   "execution_count": 30,
   "metadata": {},
   "outputs": [],
   "source": [
    "ttl_test = pct_dta[pct_dta.index >= temp_dta.index[0]]"
   ]
  },
  {
   "cell_type": "code",
   "execution_count": 56,
   "metadata": {},
   "outputs": [
    {
     "data": {
      "text/html": [
       "<div>\n",
       "<style scoped>\n",
       "    .dataframe tbody tr th:only-of-type {\n",
       "        vertical-align: middle;\n",
       "    }\n",
       "\n",
       "    .dataframe tbody tr th {\n",
       "        vertical-align: top;\n",
       "    }\n",
       "\n",
       "    .dataframe thead th {\n",
       "        text-align: right;\n",
       "    }\n",
       "</style>\n",
       "<table border=\"1\" class=\"dataframe\">\n",
       "  <thead>\n",
       "    <tr style=\"text-align: right;\">\n",
       "      <th></th>\n",
       "      <th>AME</th>\n",
       "      <th>NOW</th>\n",
       "      <th>XYL</th>\n",
       "      <th>BAC</th>\n",
       "      <th>TGI</th>\n",
       "      <th>AMBC</th>\n",
       "      <th>NSP</th>\n",
       "      <th>MOS</th>\n",
       "      <th>MEI</th>\n",
       "      <th>PSB</th>\n",
       "      <th>...</th>\n",
       "      <th>LNN</th>\n",
       "      <th>TDY</th>\n",
       "      <th>BBBY</th>\n",
       "      <th>K</th>\n",
       "      <th>BEN</th>\n",
       "      <th>THRM</th>\n",
       "      <th>PAYX</th>\n",
       "      <th>TSLA</th>\n",
       "      <th>BABA</th>\n",
       "      <th>NIO</th>\n",
       "    </tr>\n",
       "    <tr>\n",
       "      <th>Date</th>\n",
       "      <th></th>\n",
       "      <th></th>\n",
       "      <th></th>\n",
       "      <th></th>\n",
       "      <th></th>\n",
       "      <th></th>\n",
       "      <th></th>\n",
       "      <th></th>\n",
       "      <th></th>\n",
       "      <th></th>\n",
       "      <th></th>\n",
       "      <th></th>\n",
       "      <th></th>\n",
       "      <th></th>\n",
       "      <th></th>\n",
       "      <th></th>\n",
       "      <th></th>\n",
       "      <th></th>\n",
       "      <th></th>\n",
       "      <th></th>\n",
       "      <th></th>\n",
       "    </tr>\n",
       "  </thead>\n",
       "  <tbody>\n",
       "    <tr>\n",
       "      <th>2018-10-30</th>\n",
       "      <td>0.010362</td>\n",
       "      <td>0.026000</td>\n",
       "      <td>-0.008618</td>\n",
       "      <td>0.006349</td>\n",
       "      <td>0.047004</td>\n",
       "      <td>0.008837</td>\n",
       "      <td>0.018246</td>\n",
       "      <td>0.027251</td>\n",
       "      <td>0.029179</td>\n",
       "      <td>0.010080</td>\n",
       "      <td>...</td>\n",
       "      <td>0.031115</td>\n",
       "      <td>-0.000233</td>\n",
       "      <td>0.051834</td>\n",
       "      <td>0.022253</td>\n",
       "      <td>0.045759</td>\n",
       "      <td>0.014770</td>\n",
       "      <td>0.011096</td>\n",
       "      <td>-0.014783</td>\n",
       "      <td>0.022117</td>\n",
       "      <td>-0.038772</td>\n",
       "    </tr>\n",
       "    <tr>\n",
       "      <th>2018-10-31</th>\n",
       "      <td>0.010562</td>\n",
       "      <td>0.074421</td>\n",
       "      <td>0.010115</td>\n",
       "      <td>0.026814</td>\n",
       "      <td>0.012346</td>\n",
       "      <td>0.001460</td>\n",
       "      <td>0.013415</td>\n",
       "      <td>0.016454</td>\n",
       "      <td>0.005600</td>\n",
       "      <td>-0.015612</td>\n",
       "      <td>...</td>\n",
       "      <td>-0.003651</td>\n",
       "      <td>0.029688</td>\n",
       "      <td>-0.044731</td>\n",
       "      <td>-0.088738</td>\n",
       "      <td>-0.015653</td>\n",
       "      <td>-0.007505</td>\n",
       "      <td>0.022281</td>\n",
       "      <td>0.022431</td>\n",
       "      <td>0.043644</td>\n",
       "      <td>-0.008403</td>\n",
       "    </tr>\n",
       "    <tr>\n",
       "      <th>2018-11-01</th>\n",
       "      <td>0.067707</td>\n",
       "      <td>0.014859</td>\n",
       "      <td>0.048349</td>\n",
       "      <td>0.011137</td>\n",
       "      <td>0.081486</td>\n",
       "      <td>0.009232</td>\n",
       "      <td>0.012765</td>\n",
       "      <td>0.038322</td>\n",
       "      <td>0.021232</td>\n",
       "      <td>0.007276</td>\n",
       "      <td>...</td>\n",
       "      <td>0.062190</td>\n",
       "      <td>0.026482</td>\n",
       "      <td>0.033333</td>\n",
       "      <td>-0.022561</td>\n",
       "      <td>0.016625</td>\n",
       "      <td>0.006416</td>\n",
       "      <td>-0.007645</td>\n",
       "      <td>0.020753</td>\n",
       "      <td>0.063045</td>\n",
       "      <td>0.122034</td>\n",
       "    </tr>\n",
       "    <tr>\n",
       "      <th>2018-11-02</th>\n",
       "      <td>0.014045</td>\n",
       "      <td>-0.026942</td>\n",
       "      <td>-0.010597</td>\n",
       "      <td>0.003038</td>\n",
       "      <td>0.012814</td>\n",
       "      <td>0.003370</td>\n",
       "      <td>-0.000560</td>\n",
       "      <td>-0.006682</td>\n",
       "      <td>0.001704</td>\n",
       "      <td>0.000730</td>\n",
       "      <td>...</td>\n",
       "      <td>0.010452</td>\n",
       "      <td>-0.000352</td>\n",
       "      <td>0.036098</td>\n",
       "      <td>-0.015784</td>\n",
       "      <td>-0.009954</td>\n",
       "      <td>0.006375</td>\n",
       "      <td>0.007704</td>\n",
       "      <td>0.006099</td>\n",
       "      <td>-0.024198</td>\n",
       "      <td>-0.019637</td>\n",
       "    </tr>\n",
       "    <tr>\n",
       "      <th>2018-11-05</th>\n",
       "      <td>0.012031</td>\n",
       "      <td>0.009117</td>\n",
       "      <td>0.007241</td>\n",
       "      <td>0.006058</td>\n",
       "      <td>0.000506</td>\n",
       "      <td>0.002879</td>\n",
       "      <td>-0.003456</td>\n",
       "      <td>0.009609</td>\n",
       "      <td>0.000000</td>\n",
       "      <td>0.013625</td>\n",
       "      <td>...</td>\n",
       "      <td>0.009540</td>\n",
       "      <td>-0.002334</td>\n",
       "      <td>-0.030393</td>\n",
       "      <td>0.002414</td>\n",
       "      <td>0.003950</td>\n",
       "      <td>-0.016516</td>\n",
       "      <td>0.012036</td>\n",
       "      <td>-0.014434</td>\n",
       "      <td>-0.019988</td>\n",
       "      <td>0.029276</td>\n",
       "    </tr>\n",
       "    <tr>\n",
       "      <th>...</th>\n",
       "      <td>...</td>\n",
       "      <td>...</td>\n",
       "      <td>...</td>\n",
       "      <td>...</td>\n",
       "      <td>...</td>\n",
       "      <td>...</td>\n",
       "      <td>...</td>\n",
       "      <td>...</td>\n",
       "      <td>...</td>\n",
       "      <td>...</td>\n",
       "      <td>...</td>\n",
       "      <td>...</td>\n",
       "      <td>...</td>\n",
       "      <td>...</td>\n",
       "      <td>...</td>\n",
       "      <td>...</td>\n",
       "      <td>...</td>\n",
       "      <td>...</td>\n",
       "      <td>...</td>\n",
       "      <td>...</td>\n",
       "      <td>...</td>\n",
       "    </tr>\n",
       "    <tr>\n",
       "      <th>2020-12-31</th>\n",
       "      <td>0.009263</td>\n",
       "      <td>0.005572</td>\n",
       "      <td>0.010022</td>\n",
       "      <td>0.011007</td>\n",
       "      <td>-0.006329</td>\n",
       "      <td>0.011842</td>\n",
       "      <td>0.000737</td>\n",
       "      <td>0.038357</td>\n",
       "      <td>0.000261</td>\n",
       "      <td>0.007889</td>\n",
       "      <td>...</td>\n",
       "      <td>0.012134</td>\n",
       "      <td>0.002250</td>\n",
       "      <td>-0.047721</td>\n",
       "      <td>0.011377</td>\n",
       "      <td>0.008475</td>\n",
       "      <td>0.010536</td>\n",
       "      <td>0.011287</td>\n",
       "      <td>0.015674</td>\n",
       "      <td>-0.023743</td>\n",
       "      <td>0.007441</td>\n",
       "    </tr>\n",
       "    <tr>\n",
       "      <th>2021-01-04</th>\n",
       "      <td>-0.021168</td>\n",
       "      <td>-0.042876</td>\n",
       "      <td>-0.020631</td>\n",
       "      <td>-0.009238</td>\n",
       "      <td>-0.065287</td>\n",
       "      <td>-0.036411</td>\n",
       "      <td>-0.029477</td>\n",
       "      <td>0.028683</td>\n",
       "      <td>-0.018025</td>\n",
       "      <td>-0.024084</td>\n",
       "      <td>...</td>\n",
       "      <td>-0.007707</td>\n",
       "      <td>-0.075489</td>\n",
       "      <td>0.015203</td>\n",
       "      <td>-0.012534</td>\n",
       "      <td>-0.026010</td>\n",
       "      <td>-0.026986</td>\n",
       "      <td>-0.030264</td>\n",
       "      <td>0.034152</td>\n",
       "      <td>-0.020969</td>\n",
       "      <td>0.097456</td>\n",
       "    </tr>\n",
       "    <tr>\n",
       "      <th>2021-01-05</th>\n",
       "      <td>0.006927</td>\n",
       "      <td>0.009756</td>\n",
       "      <td>-0.001204</td>\n",
       "      <td>0.007659</td>\n",
       "      <td>0.097104</td>\n",
       "      <td>0.034413</td>\n",
       "      <td>0.016958</td>\n",
       "      <td>0.037178</td>\n",
       "      <td>0.012503</td>\n",
       "      <td>0.000771</td>\n",
       "      <td>...</td>\n",
       "      <td>0.020240</td>\n",
       "      <td>0.036149</td>\n",
       "      <td>0.095951</td>\n",
       "      <td>0.005696</td>\n",
       "      <td>-0.002465</td>\n",
       "      <td>0.031516</td>\n",
       "      <td>-0.003763</td>\n",
       "      <td>0.007317</td>\n",
       "      <td>0.055080</td>\n",
       "      <td>-0.005422</td>\n",
       "    </tr>\n",
       "    <tr>\n",
       "      <th>2021-01-06</th>\n",
       "      <td>0.042366</td>\n",
       "      <td>-0.046469</td>\n",
       "      <td>0.042181</td>\n",
       "      <td>0.062459</td>\n",
       "      <td>-0.003882</td>\n",
       "      <td>0.076973</td>\n",
       "      <td>0.045172</td>\n",
       "      <td>0.061100</td>\n",
       "      <td>0.065949</td>\n",
       "      <td>0.013100</td>\n",
       "      <td>...</td>\n",
       "      <td>0.058824</td>\n",
       "      <td>-0.017577</td>\n",
       "      <td>0.064271</td>\n",
       "      <td>-0.007767</td>\n",
       "      <td>0.051483</td>\n",
       "      <td>0.047510</td>\n",
       "      <td>0.012553</td>\n",
       "      <td>0.028390</td>\n",
       "      <td>-0.053203</td>\n",
       "      <td>-0.050752</td>\n",
       "    </tr>\n",
       "    <tr>\n",
       "      <th>2021-01-07</th>\n",
       "      <td>0.001207</td>\n",
       "      <td>0.008201</td>\n",
       "      <td>0.045389</td>\n",
       "      <td>0.022084</td>\n",
       "      <td>-0.014809</td>\n",
       "      <td>-0.005451</td>\n",
       "      <td>0.011549</td>\n",
       "      <td>0.033013</td>\n",
       "      <td>0.045354</td>\n",
       "      <td>0.000304</td>\n",
       "      <td>...</td>\n",
       "      <td>0.008134</td>\n",
       "      <td>-0.034482</td>\n",
       "      <td>-0.109368</td>\n",
       "      <td>-0.007012</td>\n",
       "      <td>-0.001567</td>\n",
       "      <td>0.015021</td>\n",
       "      <td>0.004169</td>\n",
       "      <td>0.079447</td>\n",
       "      <td>-0.003119</td>\n",
       "      <td>0.074851</td>\n",
       "    </tr>\n",
       "  </tbody>\n",
       "</table>\n",
       "<p>551 rows × 1318 columns</p>\n",
       "</div>"
      ],
      "text/plain": [
       "                 AME       NOW       XYL       BAC       TGI      AMBC  \\\n",
       "Date                                                                     \n",
       "2018-10-30  0.010362  0.026000 -0.008618  0.006349  0.047004  0.008837   \n",
       "2018-10-31  0.010562  0.074421  0.010115  0.026814  0.012346  0.001460   \n",
       "2018-11-01  0.067707  0.014859  0.048349  0.011137  0.081486  0.009232   \n",
       "2018-11-02  0.014045 -0.026942 -0.010597  0.003038  0.012814  0.003370   \n",
       "2018-11-05  0.012031  0.009117  0.007241  0.006058  0.000506  0.002879   \n",
       "...              ...       ...       ...       ...       ...       ...   \n",
       "2020-12-31  0.009263  0.005572  0.010022  0.011007 -0.006329  0.011842   \n",
       "2021-01-04 -0.021168 -0.042876 -0.020631 -0.009238 -0.065287 -0.036411   \n",
       "2021-01-05  0.006927  0.009756 -0.001204  0.007659  0.097104  0.034413   \n",
       "2021-01-06  0.042366 -0.046469  0.042181  0.062459 -0.003882  0.076973   \n",
       "2021-01-07  0.001207  0.008201  0.045389  0.022084 -0.014809 -0.005451   \n",
       "\n",
       "                 NSP       MOS       MEI       PSB  ...       LNN       TDY  \\\n",
       "Date                                                ...                       \n",
       "2018-10-30  0.018246  0.027251  0.029179  0.010080  ...  0.031115 -0.000233   \n",
       "2018-10-31  0.013415  0.016454  0.005600 -0.015612  ... -0.003651  0.029688   \n",
       "2018-11-01  0.012765  0.038322  0.021232  0.007276  ...  0.062190  0.026482   \n",
       "2018-11-02 -0.000560 -0.006682  0.001704  0.000730  ...  0.010452 -0.000352   \n",
       "2018-11-05 -0.003456  0.009609  0.000000  0.013625  ...  0.009540 -0.002334   \n",
       "...              ...       ...       ...       ...  ...       ...       ...   \n",
       "2020-12-31  0.000737  0.038357  0.000261  0.007889  ...  0.012134  0.002250   \n",
       "2021-01-04 -0.029477  0.028683 -0.018025 -0.024084  ... -0.007707 -0.075489   \n",
       "2021-01-05  0.016958  0.037178  0.012503  0.000771  ...  0.020240  0.036149   \n",
       "2021-01-06  0.045172  0.061100  0.065949  0.013100  ...  0.058824 -0.017577   \n",
       "2021-01-07  0.011549  0.033013  0.045354  0.000304  ...  0.008134 -0.034482   \n",
       "\n",
       "                BBBY         K       BEN      THRM      PAYX      TSLA  \\\n",
       "Date                                                                     \n",
       "2018-10-30  0.051834  0.022253  0.045759  0.014770  0.011096 -0.014783   \n",
       "2018-10-31 -0.044731 -0.088738 -0.015653 -0.007505  0.022281  0.022431   \n",
       "2018-11-01  0.033333 -0.022561  0.016625  0.006416 -0.007645  0.020753   \n",
       "2018-11-02  0.036098 -0.015784 -0.009954  0.006375  0.007704  0.006099   \n",
       "2018-11-05 -0.030393  0.002414  0.003950 -0.016516  0.012036 -0.014434   \n",
       "...              ...       ...       ...       ...       ...       ...   \n",
       "2020-12-31 -0.047721  0.011377  0.008475  0.010536  0.011287  0.015674   \n",
       "2021-01-04  0.015203 -0.012534 -0.026010 -0.026986 -0.030264  0.034152   \n",
       "2021-01-05  0.095951  0.005696 -0.002465  0.031516 -0.003763  0.007317   \n",
       "2021-01-06  0.064271 -0.007767  0.051483  0.047510  0.012553  0.028390   \n",
       "2021-01-07 -0.109368 -0.007012 -0.001567  0.015021  0.004169  0.079447   \n",
       "\n",
       "                BABA       NIO  \n",
       "Date                            \n",
       "2018-10-30  0.022117 -0.038772  \n",
       "2018-10-31  0.043644 -0.008403  \n",
       "2018-11-01  0.063045  0.122034  \n",
       "2018-11-02 -0.024198 -0.019637  \n",
       "2018-11-05 -0.019988  0.029276  \n",
       "...              ...       ...  \n",
       "2020-12-31 -0.023743  0.007441  \n",
       "2021-01-04 -0.020969  0.097456  \n",
       "2021-01-05  0.055080 -0.005422  \n",
       "2021-01-06 -0.053203 -0.050752  \n",
       "2021-01-07 -0.003119  0.074851  \n",
       "\n",
       "[551 rows x 1318 columns]"
      ]
     },
     "execution_count": 56,
     "metadata": {},
     "output_type": "execute_result"
    }
   ],
   "source": [
    "ttl_test"
   ]
  },
  {
   "cell_type": "code",
   "execution_count": 73,
   "metadata": {},
   "outputs": [],
   "source": [
    "final_val = xgb.DMatrix(pct_dta.iloc[-1][best_corr], label=[0])"
   ]
  },
  {
   "cell_type": "code",
   "execution_count": 74,
   "metadata": {},
   "outputs": [
    {
     "data": {
      "text/plain": [
       "array([0.67870736], dtype=float32)"
      ]
     },
     "execution_count": 74,
     "metadata": {},
     "output_type": "execute_result"
    }
   ],
   "source": [
    "model.predict(final_val)"
   ]
  },
  {
   "cell_type": "code",
   "execution_count": 31,
   "metadata": {},
   "outputs": [],
   "source": [
    "ttl_test_x = ttl_test[best_corr].values\n",
    "ttl_matrix = xgb.DMatrix(ttl_test_x, label=np.zeros(ttl_test_x.shape[0]))"
   ]
  },
  {
   "cell_type": "code",
   "execution_count": 64,
   "metadata": {},
   "outputs": [],
   "source": [
    "ttl_pred = model.predict(ttl_matrix)\n"
   ]
  },
  {
   "cell_type": "code",
   "execution_count": 67,
   "metadata": {},
   "outputs": [
    {
     "data": {
      "text/plain": [
       "0.48533434"
      ]
     },
     "execution_count": 67,
     "metadata": {},
     "output_type": "execute_result"
    }
   ],
   "source": [
    "ttl_pred[-1]"
   ]
  },
  {
   "cell_type": "code",
   "execution_count": 58,
   "metadata": {},
   "outputs": [
    {
     "data": {
      "text/plain": [
       "(551,)"
      ]
     },
     "execution_count": 58,
     "metadata": {},
     "output_type": "execute_result"
    }
   ],
   "source": [
    "ttl_pred = (ttl_pred > 0.5).astype(int)\n",
    "ttl_pred.shape"
   ]
  },
  {
   "cell_type": "code",
   "execution_count": 48,
   "metadata": {},
   "outputs": [],
   "source": [
    "inventory = 0\n",
    "asset = 0\n",
    "record = [asset]\n",
    "\n",
    "for i, dt in enumerate(ttl_test.index):\n",
    "    price = dta.loc[dt]['TSLA']\n",
    "    trend_good = ttl_pred[i] == 1\n",
    "    if trend_good and inventory == 0 and i != len(ttl_pred) - 1:\n",
    "        # buy\n",
    "        asset -= price\n",
    "        inventory += 1\n",
    "    elif not trend_good and inventory == 1:\n",
    "        # sell\n",
    "        asset += price\n",
    "        inventory -= 1\n",
    "    elif i == len(ttl_pred) - 1 and inventory == 1:\n",
    "        # liquidate in the end\n",
    "        asset += price\n",
    "        inventory -= 1\n",
    "    else:\n",
    "        asset = record[-1]\n",
    "    record.append(asset)"
   ]
  },
  {
   "cell_type": "code",
   "execution_count": 54,
   "metadata": {},
   "outputs": [
    {
     "data": {
      "text/plain": [
       "[<matplotlib.lines.Line2D at 0x18b9a3711c8>]"
      ]
     },
     "execution_count": 54,
     "metadata": {},
     "output_type": "execute_result"
    },
    {
     "data": {
      "image/png": "[encoded data removed]",
      "text/plain": [
       "<Figure size 1296x648 with 1 Axes>"
      ]
     },
     "metadata": {
      "needs_background": "light"
     },
     "output_type": "display_data"
    }
   ],
   "source": [
    "plt.figure(figsize=(18,9))\n",
    "plt.plot(dta[dta.index >= temp_dta.index[0]].index, dta[dta.index >= temp_dta.index[0]]['TSLA'])\n",
    "plt.plot(dta[dta.index >= temp_dta.index[0]].index, record[:-1])"
   ]
  },
  {
   "cell_type": "code",
   "execution_count": null,
   "metadata": {},
   "outputs": [],
   "source": []
  }
 ],
 "metadata": {
  "kernelspec": {
   "display_name": "Python 3",
   "language": "python",
   "name": "python3"
  },
  "language_info": {
   "codemirror_mode": {
    "name": "ipython",
    "version": 3
   },
   "file_extension": ".py",
   "mimetype": "text/x-python",
   "name": "python",
   "nbconvert_exporter": "python",
   "pygments_lexer": "ipython3",
   "version": "3.7.7"
  }
 },
 "nbformat": 4,
 "nbformat_minor": 1
}
