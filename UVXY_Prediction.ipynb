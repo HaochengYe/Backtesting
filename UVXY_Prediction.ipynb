{
 "cells": [
  {
   "cell_type": "code",
   "execution_count": 1,
   "metadata": {},
   "outputs": [],
   "source": [
    "import yfinance as yf\n",
    "import numpy as np\n",
    "import torch"
   ]
  },
  {
   "cell_type": "code",
   "execution_count": 2,
   "metadata": {},
   "outputs": [],
   "source": [
    "from datetime import datetime"
   ]
  },
  {
   "cell_type": "code",
   "execution_count": 3,
   "metadata": {},
   "outputs": [],
   "source": [
    "START = datetime(1990,1,1)\n",
    "END = datetime(2020,6,5)\n",
    "\n",
    "UVXY = yf.Ticker('UVXY')\n",
    "hist = UVXY.history(start=START, end=END)"
   ]
  },
  {
   "cell_type": "code",
   "execution_count": 4,
   "metadata": {},
   "outputs": [
    {
     "output_type": "execute_result",
     "data": {
      "text/plain": "                    Open          High           Low         Close    Volume  \\\nDate                                                                           \n2011-10-04  2.427000e+08  2.448000e+08  2.058000e+08  2.058000e+08         0   \n2011-10-05  1.974600e+08  1.989000e+08  1.813800e+08  1.813800e+08         0   \n2011-10-06  1.811400e+08  1.878000e+08  1.740000e+08  1.740000e+08         0   \n2011-10-07  1.705800e+08  1.857600e+08  1.684800e+08  1.765200e+08         0   \n2011-10-10  1.654800e+08  1.656000e+08  1.559400e+08  1.559400e+08         0   \n...                  ...           ...           ...           ...       ...   \n2020-05-29  3.571000e+01  3.685000e+01  3.353000e+01  3.357000e+01  15695900   \n2020-06-01  3.478000e+01  3.500000e+01  3.354000e+01  3.385000e+01   8584400   \n2020-06-02  3.360000e+01  3.422000e+01  3.241000e+01  3.249000e+01  12217800   \n2020-06-03  3.147000e+01  3.174000e+01  3.014000e+01  3.040000e+01  13259900   \n2020-06-04  3.062000e+01  3.107000e+01  2.866000e+01  2.998000e+01  12857100   \n\n            Dividends  Stock Splits  \nDate                                 \n2011-10-04          0           0.0  \n2011-10-05          0           0.0  \n2011-10-06          0           0.0  \n2011-10-07          0           0.0  \n2011-10-10          0           0.0  \n...               ...           ...  \n2020-05-29          0           0.0  \n2020-06-01          0           0.0  \n2020-06-02          0           0.0  \n2020-06-03          0           0.0  \n2020-06-04          0           0.0  \n\n[2181 rows x 7 columns]",
      "text/html": "<div>\n<style scoped>\n    .dataframe tbody tr th:only-of-type {\n        vertical-align: middle;\n    }\n\n    .dataframe tbody tr th {\n        vertical-align: top;\n    }\n\n    .dataframe thead th {\n        text-align: right;\n    }\n</style>\n<table border=\"1\" class=\"dataframe\">\n  <thead>\n    <tr style=\"text-align: right;\">\n      <th></th>\n      <th>Open</th>\n      <th>High</th>\n      <th>Low</th>\n      <th>Close</th>\n      <th>Volume</th>\n      <th>Dividends</th>\n      <th>Stock Splits</th>\n    </tr>\n    <tr>\n      <th>Date</th>\n      <th></th>\n      <th></th>\n      <th></th>\n      <th></th>\n      <th></th>\n      <th></th>\n      <th></th>\n    </tr>\n  </thead>\n  <tbody>\n    <tr>\n      <td>2011-10-04</td>\n      <td>2.427000e+08</td>\n      <td>2.448000e+08</td>\n      <td>2.058000e+08</td>\n      <td>2.058000e+08</td>\n      <td>0</td>\n      <td>0</td>\n      <td>0.0</td>\n    </tr>\n    <tr>\n      <td>2011-10-05</td>\n      <td>1.974600e+08</td>\n      <td>1.989000e+08</td>\n      <td>1.813800e+08</td>\n      <td>1.813800e+08</td>\n      <td>0</td>\n      <td>0</td>\n      <td>0.0</td>\n    </tr>\n    <tr>\n      <td>2011-10-06</td>\n      <td>1.811400e+08</td>\n      <td>1.878000e+08</td>\n      <td>1.740000e+08</td>\n      <td>1.740000e+08</td>\n      <td>0</td>\n      <td>0</td>\n      <td>0.0</td>\n    </tr>\n    <tr>\n      <td>2011-10-07</td>\n      <td>1.705800e+08</td>\n      <td>1.857600e+08</td>\n      <td>1.684800e+08</td>\n      <td>1.765200e+08</td>\n      <td>0</td>\n      <td>0</td>\n      <td>0.0</td>\n    </tr>\n    <tr>\n      <td>2011-10-10</td>\n      <td>1.654800e+08</td>\n      <td>1.656000e+08</td>\n      <td>1.559400e+08</td>\n      <td>1.559400e+08</td>\n      <td>0</td>\n      <td>0</td>\n      <td>0.0</td>\n    </tr>\n    <tr>\n      <td>...</td>\n      <td>...</td>\n      <td>...</td>\n      <td>...</td>\n      <td>...</td>\n      <td>...</td>\n      <td>...</td>\n      <td>...</td>\n    </tr>\n    <tr>\n      <td>2020-05-29</td>\n      <td>3.571000e+01</td>\n      <td>3.685000e+01</td>\n      <td>3.353000e+01</td>\n      <td>3.357000e+01</td>\n      <td>15695900</td>\n      <td>0</td>\n      <td>0.0</td>\n    </tr>\n    <tr>\n      <td>2020-06-01</td>\n      <td>3.478000e+01</td>\n      <td>3.500000e+01</td>\n      <td>3.354000e+01</td>\n      <td>3.385000e+01</td>\n      <td>8584400</td>\n      <td>0</td>\n      <td>0.0</td>\n    </tr>\n    <tr>\n      <td>2020-06-02</td>\n      <td>3.360000e+01</td>\n      <td>3.422000e+01</td>\n      <td>3.241000e+01</td>\n      <td>3.249000e+01</td>\n      <td>12217800</td>\n      <td>0</td>\n      <td>0.0</td>\n    </tr>\n    <tr>\n      <td>2020-06-03</td>\n      <td>3.147000e+01</td>\n      <td>3.174000e+01</td>\n      <td>3.014000e+01</td>\n      <td>3.040000e+01</td>\n      <td>13259900</td>\n      <td>0</td>\n      <td>0.0</td>\n    </tr>\n    <tr>\n      <td>2020-06-04</td>\n      <td>3.062000e+01</td>\n      <td>3.107000e+01</td>\n      <td>2.866000e+01</td>\n      <td>2.998000e+01</td>\n      <td>12857100</td>\n      <td>0</td>\n      <td>0.0</td>\n    </tr>\n  </tbody>\n</table>\n<p>2181 rows × 7 columns</p>\n</div>"
     },
     "metadata": {},
     "execution_count": 4
    }
   ],
   "source": [
    "hist"
   ]
  },
  {
   "cell_type": "code",
   "execution_count": 5,
   "metadata": {},
   "outputs": [],
   "source": [
    "def split_sequence(sequence, n_steps):\n",
    "    X, y = list(), list()\n",
    "    for i in range(len(sequence)):\n",
    "        end_ix = i + n_steps\n",
    "        if end_ix > len(sequence):\n",
    "            break\n",
    "        seq_x, seq_y = sequence[i:end_ix, :-1], sequence[end_ix-1, -1]\n",
    "        X.append(seq_x)\n",
    "        y.append(seq_y)\n",
    "    \n",
    "    return np.array(X), np.array(y)"
   ]
  },
  {
   "cell_type": "code",
   "execution_count": null,
   "metadata": {},
   "outputs": [],
   "source": []
  }
 ],
 "metadata": {
  "language_info": {
   "codemirror_mode": {
    "name": "ipython",
    "version": 3
   },
   "file_extension": ".py",
   "mimetype": "text/x-python",
   "name": "python",
   "nbconvert_exporter": "python",
   "pygments_lexer": "ipython3",
   "version": "3.7.4-final"
  },
  "orig_nbformat": 2,
  "kernelspec": {
   "name": "python37464bitcontinuumvirtualenv48009ba53764420baffbdb8297af855b",
   "display_name": "Python 3.7.4 64-bit ('Continuum': virtualenv)"
  }
 },
 "nbformat": 4,
 "nbformat_minor": 2
}