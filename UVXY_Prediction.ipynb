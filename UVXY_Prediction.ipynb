{
 "cells": [
  {
   "cell_type": "code",
   "execution_count": 50,
   "metadata": {},
   "outputs": [],
   "source": [
    "import yfinance as yf\n",
    "import numpy as np\n",
    "import torch\n",
    "\n",
    "from torch import nn"
   ]
  },
  {
   "cell_type": "code",
   "execution_count": 3,
   "metadata": {},
   "outputs": [],
   "source": [
    "from datetime import datetime"
   ]
  },
  {
   "cell_type": "code",
   "execution_count": 34,
   "metadata": {},
   "outputs": [],
   "source": [
    "START = datetime(1990,1,1)\n",
    "END = datetime(2020,6,5)\n",
    "\n",
    "UVXY = yf.Ticker('UVXY')\n",
    "hist = UVXY.history(start=START, end=END)\n",
    "hist.drop(['Volume', 'Dividends', 'Stock Splits'], axis=1, inplace=True)"
   ]
  },
  {
   "cell_type": "code",
   "execution_count": 35,
   "metadata": {},
   "outputs": [],
   "source": [
    "def split_sequence(sequence, n_steps):\n",
    "    X, y = list(), list()\n",
    "    for i in range(len(sequence)):\n",
    "        end_ix = i + n_steps\n",
    "        if end_ix > len(sequence):\n",
    "            break\n",
    "        seq_x, seq_y = sequence[i:end_ix, :-1], sequence[end_ix-1, -1]\n",
    "        X.append(seq_x)\n",
    "        y.append(seq_y)\n",
    "    \n",
    "    return np.array(X), np.array(y)"
   ]
  },
  {
   "cell_type": "code",
   "execution_count": 36,
   "metadata": {},
   "outputs": [
    {
     "output_type": "execute_result",
     "data": {
      "text/plain": "                    Open          High           Low         Close       RET  \\\nDate                                                                           \n2011-10-05  1.974600e+08  1.989000e+08  1.813800e+08  1.813800e+08 -0.118659   \n2011-10-06  1.811400e+08  1.878000e+08  1.740000e+08  1.740000e+08 -0.040688   \n2011-10-07  1.705800e+08  1.857600e+08  1.684800e+08  1.765200e+08  0.014483   \n2011-10-10  1.654800e+08  1.656000e+08  1.559400e+08  1.559400e+08 -0.116587   \n2011-10-11  1.570200e+08  1.572600e+08  1.491000e+08  1.506000e+08 -0.034244   \n...                  ...           ...           ...           ...       ...   \n2020-05-15  4.358000e+01  4.461000e+01  3.919000e+01  3.923000e+01 -0.037301   \n2020-05-18  3.529000e+01  3.643000e+01  3.466000e+01  3.544000e+01 -0.096610   \n2020-05-19  3.565000e+01  3.817000e+01  3.449000e+01  3.800000e+01  0.072235   \n2020-05-20  3.539000e+01  3.656000e+01  3.435000e+01  3.450000e+01 -0.092105   \n2020-05-21  3.454000e+01  3.692000e+01  3.383000e+01  3.571000e+01  0.035072   \n\n                   y  y_binary  \nDate                            \n2011-10-05 -0.405426       0.0  \n2011-10-06 -0.175707       0.0  \n2011-10-07 -0.133360       0.0  \n2011-10-10 -0.249292       0.0  \n2011-10-11 -0.254364       0.0  \n...              ...       ...  \n2020-05-15 -0.176722       0.0  \n2020-05-18 -0.131081       0.0  \n2020-05-19 -0.074649       0.0  \n2020-05-20 -0.211211       0.0  \n2020-05-21 -0.132921       0.0  \n\n[2171 rows x 7 columns]",
      "text/html": "<div>\n<style scoped>\n    .dataframe tbody tr th:only-of-type {\n        vertical-align: middle;\n    }\n\n    .dataframe tbody tr th {\n        vertical-align: top;\n    }\n\n    .dataframe thead th {\n        text-align: right;\n    }\n</style>\n<table border=\"1\" class=\"dataframe\">\n  <thead>\n    <tr style=\"text-align: right;\">\n      <th></th>\n      <th>Open</th>\n      <th>High</th>\n      <th>Low</th>\n      <th>Close</th>\n      <th>RET</th>\n      <th>y</th>\n      <th>y_binary</th>\n    </tr>\n    <tr>\n      <th>Date</th>\n      <th></th>\n      <th></th>\n      <th></th>\n      <th></th>\n      <th></th>\n      <th></th>\n      <th></th>\n    </tr>\n  </thead>\n  <tbody>\n    <tr>\n      <td>2011-10-05</td>\n      <td>1.974600e+08</td>\n      <td>1.989000e+08</td>\n      <td>1.813800e+08</td>\n      <td>1.813800e+08</td>\n      <td>-0.118659</td>\n      <td>-0.405426</td>\n      <td>0.0</td>\n    </tr>\n    <tr>\n      <td>2011-10-06</td>\n      <td>1.811400e+08</td>\n      <td>1.878000e+08</td>\n      <td>1.740000e+08</td>\n      <td>1.740000e+08</td>\n      <td>-0.040688</td>\n      <td>-0.175707</td>\n      <td>0.0</td>\n    </tr>\n    <tr>\n      <td>2011-10-07</td>\n      <td>1.705800e+08</td>\n      <td>1.857600e+08</td>\n      <td>1.684800e+08</td>\n      <td>1.765200e+08</td>\n      <td>0.014483</td>\n      <td>-0.133360</td>\n      <td>0.0</td>\n    </tr>\n    <tr>\n      <td>2011-10-10</td>\n      <td>1.654800e+08</td>\n      <td>1.656000e+08</td>\n      <td>1.559400e+08</td>\n      <td>1.559400e+08</td>\n      <td>-0.116587</td>\n      <td>-0.249292</td>\n      <td>0.0</td>\n    </tr>\n    <tr>\n      <td>2011-10-11</td>\n      <td>1.570200e+08</td>\n      <td>1.572600e+08</td>\n      <td>1.491000e+08</td>\n      <td>1.506000e+08</td>\n      <td>-0.034244</td>\n      <td>-0.254364</td>\n      <td>0.0</td>\n    </tr>\n    <tr>\n      <td>...</td>\n      <td>...</td>\n      <td>...</td>\n      <td>...</td>\n      <td>...</td>\n      <td>...</td>\n      <td>...</td>\n      <td>...</td>\n    </tr>\n    <tr>\n      <td>2020-05-15</td>\n      <td>4.358000e+01</td>\n      <td>4.461000e+01</td>\n      <td>3.919000e+01</td>\n      <td>3.923000e+01</td>\n      <td>-0.037301</td>\n      <td>-0.176722</td>\n      <td>0.0</td>\n    </tr>\n    <tr>\n      <td>2020-05-18</td>\n      <td>3.529000e+01</td>\n      <td>3.643000e+01</td>\n      <td>3.466000e+01</td>\n      <td>3.544000e+01</td>\n      <td>-0.096610</td>\n      <td>-0.131081</td>\n      <td>0.0</td>\n    </tr>\n    <tr>\n      <td>2020-05-19</td>\n      <td>3.565000e+01</td>\n      <td>3.817000e+01</td>\n      <td>3.449000e+01</td>\n      <td>3.800000e+01</td>\n      <td>0.072235</td>\n      <td>-0.074649</td>\n      <td>0.0</td>\n    </tr>\n    <tr>\n      <td>2020-05-20</td>\n      <td>3.539000e+01</td>\n      <td>3.656000e+01</td>\n      <td>3.435000e+01</td>\n      <td>3.450000e+01</td>\n      <td>-0.092105</td>\n      <td>-0.211211</td>\n      <td>0.0</td>\n    </tr>\n    <tr>\n      <td>2020-05-21</td>\n      <td>3.454000e+01</td>\n      <td>3.692000e+01</td>\n      <td>3.383000e+01</td>\n      <td>3.571000e+01</td>\n      <td>0.035072</td>\n      <td>-0.132921</td>\n      <td>0.0</td>\n    </tr>\n  </tbody>\n</table>\n<p>2171 rows × 7 columns</p>\n</div>"
     },
     "metadata": {},
     "execution_count": 36
    }
   ],
   "source": [
    "hist['RET'] = hist['Close'].pct_change()\n",
    "hist.dropna(inplace=True)\n",
    "hist['y'] = hist['RET'].rolling(10).sum()\n",
    "hist['y_binary'] = (hist['y'] > 0).astype(int)\n",
    "hist['y'] = hist['y'].shift(-9)\n",
    "hist['y_binary'] = hist['y_binary'].shift(-9)\n",
    "hist.dropna(inplace=True)\n",
    "hist"
   ]
  },
  {
   "cell_type": "code",
   "execution_count": 45,
   "metadata": {},
   "outputs": [],
   "source": [
    "in_seq1 = np.array(hist['Open'].values.reshape(-1,1))\n",
    "in_seq2 = np.array(hist['High'].values.reshape(-1,1))\n",
    "in_seq3 = np.array(hist['Low'].values.reshape(-1,1))\n",
    "in_seq4 = np.array(hist['Close'].values.reshape(-1,1))\n"
   ]
  },
  {
   "cell_type": "code",
   "execution_count": 46,
   "metadata": {},
   "outputs": [],
   "source": [
    "out_seq = np.array(hist['y'].values.reshape(-1,1))\n",
    "out_seq_bin = np.array(hist['y_binary'].values.reshape(-1,1))"
   ]
  },
  {
   "cell_type": "code",
   "execution_count": 49,
   "metadata": {},
   "outputs": [],
   "source": [
    "dataset = np.hstack((in_seq1, in_seq2, in_seq3, in_seq4, out_seq))\n",
    "dataset_binary = np.hstack((in_seq1, in_seq2, in_seq3, in_seq4, out_seq_bin))"
   ]
  },
  {
   "cell_type": "code",
   "execution_count": 51,
   "metadata": {},
   "outputs": [],
   "source": [
    "class MV_LSTM(nn.Module):\n",
    "    def __init__(self, n_features, seq_length, hidden_dim=20, num_layers=1):\n",
    "        super(MV_LSTM, self).__init__()\n",
    "        self.n_features = n_features\n",
    "        self.seq_length = seq_length\n",
    "        self.n_hidden = hidden_dim\n",
    "        self.n_layers = num_layers\n",
    "\n",
    "        self.lstm = nn.LSTM(input_size=self.n_features,\n",
    "                            hidden_size=self.n_hidden,\n",
    "                            num_layers=self.n_layers,\n",
    "                            batch_first=True)\n",
    "        self.linear = nn.Linear(self.n_hidden*self.seq_length, 1)\n",
    "\n",
    "    def init_hidden(self, batch_size):\n",
    "        hidden_state = torch.zeros(self.n_layers, batch_size, self.n_hidden)\n",
    "        cell_state = torch.zeros(self.n_layers, batch_size, self.n_hidden)\n",
    "        self.hidden(hidden_state, cell_state)\n",
    "\n",
    "    def forward(self, x):\n",
    "        batch_size, seq_length, _ = x.size()\n",
    "\n",
    "        lstm_out, self.hidden = self.lstm(x, self.hidden)\n",
    "        x = lstm_out.contiguous().view(batch_size, -1)\n",
    "        return self.linear(x)\n",
    "        "
   ]
  },
  {
   "cell_type": "code",
   "execution_count": 52,
   "metadata": {},
   "outputs": [
    {
     "output_type": "execute_result",
     "data": {
      "text/plain": "MV_LSTM(\n  (lstm): LSTM(4, 20, batch_first=True)\n  (linear): Linear(in_features=200, out_features=1, bias=True)\n)"
     },
     "metadata": {},
     "execution_count": 52
    }
   ],
   "source": [
    "MV_LSTM(4, 10, 20, 1)"
   ]
  },
  {
   "cell_type": "code",
   "execution_count": 53,
   "metadata": {},
   "outputs": [
    {
     "output_type": "stream",
     "name": "stdout",
     "text": "(2142, 30, 4)(2142,)\n"
    }
   ],
   "source": [
    "n_features = 4\n",
    "n_timesteps = 30\n",
    "\n",
    "X, y = split_sequence(dataset, n_timesteps)\n",
    "print(X.shape, y.shape)"
   ]
  },
  {
   "cell_type": "code",
   "execution_count": null,
   "metadata": {},
   "outputs": [],
   "source": []
  }
 ],
 "metadata": {
  "language_info": {
   "codemirror_mode": {
    "name": "ipython",
    "version": 3
   },
   "file_extension": ".py",
   "mimetype": "text/x-python",
   "name": "python",
   "nbconvert_exporter": "python",
   "pygments_lexer": "ipython3",
   "version": "3.7.4-final"
  },
  "orig_nbformat": 2,
  "kernelspec": {
   "name": "python37464bitcontinuumvirtualenv48009ba53764420baffbdb8297af855b",
   "display_name": "Python 3.7.4 64-bit ('Continuum': virtualenv)"
  }
 },
 "nbformat": 4,
 "nbformat_minor": 2
}