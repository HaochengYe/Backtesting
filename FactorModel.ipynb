{
 "metadata": {
  "language_info": {
   "codemirror_mode": {
    "name": "ipython",
    "version": 3
   },
   "file_extension": ".py",
   "mimetype": "text/x-python",
   "name": "python",
   "nbconvert_exporter": "python",
   "pygments_lexer": "ipython3",
   "version": "3.7.7-final"
  },
  "orig_nbformat": 2,
  "kernelspec": {
   "name": "python3",
   "display_name": "Python 3.7.7 64-bit (conda)",
   "metadata": {
    "interpreter": {
     "hash": "f68e17fdc63d5ee22727eac08e661658b47b13733c9461c753b9125c632ceeb5"
    }
   }
  }
 },
 "nbformat": 4,
 "nbformat_minor": 2,
 "cells": [
  {
   "cell_type": "code",
   "execution_count": 1,
   "metadata": {},
   "outputs": [],
   "source": [
    "import matplotlib.pyplot as plt\n",
    "from statsmodels.tsa.stattools import coint\n",
    "import statsmodels.api as sm\n",
    "import pandas as pd\n",
    "import numpy as np"
   ]
  },
  {
   "cell_type": "code",
   "execution_count": 6,
   "metadata": {},
   "outputs": [],
   "source": [
    "def data_preprocess(dta):\n",
    "    dta['Date'] = pd.to_datetime(dta['Date'], format='%m/%d/%Y')\n",
    "    dta = dta.set_index(dta['Date'])\n",
    "    # NHLI not traded\n",
    "    dta.drop(['Date', 'NHLI'], axis=1, inplace=True)\n",
    "    dta.dropna(how='all', inplace=True)\n",
    "    for tick in dta.columns:\n",
    "        tick_series = dta[tick]\n",
    "        start_pos = tick_series.first_valid_index()\n",
    "        valid_series = tick_series.loc[start_pos:]\n",
    "        if valid_series.isna().sum() > 0:\n",
    "            dta.drop(tick, axis=1, inplace=True)\n",
    "\n",
    "    for tick in dta.columns:\n",
    "        dta[tick] = dta[tick].mask(dta[tick] == 0).ffill(downcast='infer')\n",
    "\n",
    "    return dta[dta.index >= dta['SPY'].first_valid_index()]\n"
   ]
  },
  {
   "cell_type": "code",
   "execution_count": 7,
   "metadata": {},
   "outputs": [],
   "source": [
    "dta = pd.read_csv('broader_stock.csv')\n",
    "dta = data_preprocess(dta)\n"
   ]
  },
  {
   "cell_type": "code",
   "execution_count": 8,
   "metadata": {},
   "outputs": [],
   "source": [
    "tick = 'ASB'\n",
    "\n",
    "test = dta[tick]\n",
    "\n",
    "if tick in dta.columns:\n",
    "    temp = pd.concat([dta.drop([tick], axis=1), test], axis=1).dropna(axis=1)\n",
    "    temp['%s_LAG' % tick] = temp[tick].shift(-5)\n",
    "    temp.dropna(inplace=True)\n",
    "else:\n",
    "    temp = pd.concat([dta, test], axis=1).dropna(axis=1)\n",
    "    temp['%s_LAG' % tick] = temp[tick].shift(-5)\n",
    "    temp.dropna(inplace=True)\n",
    "\n",
    "y = temp['%s_LAG' % tick]\n",
    "cointegrat = {}\n",
    "correlat = {}\n",
    "\n"
   ]
  },
  {
   "cell_type": "code",
   "execution_count": 9,
   "metadata": {},
   "outputs": [],
   "source": [
    "y = pct_change(y)\n",
    "cointegrat = {}\n",
    "correlat = {}\n",
    "\n",
    "for i in temp.columns[:-2]:\n",
    "    x = temp[i]\n",
    "    x = pct_change(x)\n",
    "    score, pval, _ = coint(x, y, trend='ct')\n",
    "    corr = x.corr(y)\n",
    "\n",
    "    cointegrat[i] = pval\n",
    "    correlat[i] = corr\n",
    "\n",
    "best_coint = sorted(cointegrat, key=cointegrat.get)[:50]\n",
    "best_corr = sorted(correlat, key=correlat.get, reverse=True)[:50]\n",
    "\n",
    "intersect = list(set(best_coint) & set(best_corr))"
   ]
  },
  {
   "cell_type": "code",
   "execution_count": 10,
   "metadata": {},
   "outputs": [],
   "source": [
    "union = list(set(best_coint) | set(best_corr))\n",
    "intersect.append('SPY')\n",
    "union.append('SPY')"
   ]
  },
  {
   "cell_type": "code",
   "execution_count": 11,
   "metadata": {},
   "outputs": [],
   "source": [
    "X = temp[union]\n",
    "X = X.apply(pct_change, axis=0)\n",
    "Y = temp['ASB_LAG']\n",
    "Y = pct_change(Y)\n",
    "\n",
    "cutoff = int(X.shape[0] * 0.8)\n",
    "\n",
    "X_tv, X_test = X.iloc[:cutoff], X.iloc[cutoff:]\n",
    "Y_tv, Y_test = Y.iloc[:cutoff], Y.iloc[cutoff:]"
   ]
  },
  {
   "source": [
    "## Baseline Model\n",
    "$$\n",
    "R_{i,t} = \\sum_k \\beta_k R_{k, t-l}\n",
    "$$"
   ],
   "cell_type": "markdown",
   "metadata": {}
  },
  {
   "cell_type": "code",
   "execution_count": 12,
   "metadata": {},
   "outputs": [],
   "source": [
    "from sklearn.linear_model import LassoCV\n",
    "from sklearn.linear_model import RidgeCV\n",
    "from sklearn.metrics import mean_squared_error, mean_absolute_error, r2_score"
   ]
  },
  {
   "cell_type": "code",
   "execution_count": 13,
   "metadata": {},
   "outputs": [],
   "source": [
    "alpha = np.linspace(0.001, 1000, 300)\n",
    "\n",
    "l1reg = LassoCV(alphas=alpha, fit_intercept=True, cv=10, n_jobs=-1).fit(X_tv, Y_tv)\n",
    "l1_pred = l1reg.predict(X_test)\n",
    "\n",
    "l2reg = RidgeCV(alphas=alpha, fit_intercept=True, cv=10).fit(X_tv, Y_tv)\n",
    "l2_pred = l2reg.predict(X_test)\n",
    "\n",
    "ols = sm.OLS(Y_tv, sm.add_constant(X_tv)).fit()\n",
    "ols_pred = ols.predict(sm.add_constant(X_test))"
   ]
  },
  {
   "cell_type": "code",
   "execution_count": 14,
   "metadata": {},
   "outputs": [],
   "source": [
    "l1_r2 = r2_score(Y_test.values, l1_pred)\n",
    "l2_r2 = r2_score(Y_test.values, l2_pred)\n",
    "ols_r2 = r2_score(Y_test.values, ols_pred.values)"
   ]
  },
  {
   "cell_type": "code",
   "execution_count": 15,
   "metadata": {},
   "outputs": [
    {
     "output_type": "execute_result",
     "data": {
      "text/plain": [
       "-0.00020526102920137568"
      ]
     },
     "metadata": {},
     "execution_count": 15
    }
   ],
   "source": [
    "max(l1_r2, l2_r2, ols_r2)"
   ]
  },
  {
   "source": [
    "## Factor Model\n",
    "$$\n",
    "R_{i,t} = \\sum_k \\beta_k F_{k, t-l}\n",
    "$$"
   ],
   "cell_type": "markdown",
   "metadata": {}
  },
  {
   "cell_type": "code",
   "execution_count": 16,
   "metadata": {},
   "outputs": [],
   "source": [
    "from sklearn.decomposition import FactorAnalysis"
   ]
  },
  {
   "cell_type": "code",
   "execution_count": 17,
   "metadata": {},
   "outputs": [],
   "source": [
    "transformer = FactorAnalysis(n_components=20, max_iter=5000, svd_method='lapack')\n",
    "X_transformed = transformer.fit_transform(X_tv)"
   ]
  },
  {
   "cell_type": "code",
   "execution_count": 18,
   "metadata": {},
   "outputs": [],
   "source": [
    "l1reg = LassoCV(alphas=alpha, fit_intercept=True, cv=10, n_jobs=-1).fit(X_transformed, Y_tv)\n",
    "l1_pred = l1reg.predict(transformer.transform(X_test))\n",
    "\n",
    "l2reg = RidgeCV(alphas=alpha, fit_intercept=True, cv=10).fit(X_transformed, Y_tv)\n",
    "l2_pred = l2reg.predict(transformer.transform(X_test))\n",
    "\n",
    "ols = sm.OLS(Y_tv, sm.add_constant(X_transformed)).fit()\n",
    "ols_pred = ols.predict(sm.add_constant(transformer.transform(X_test)))"
   ]
  },
  {
   "cell_type": "code",
   "execution_count": 19,
   "metadata": {},
   "outputs": [],
   "source": [
    "l1_r2 = r2_score(Y_test.values, l1_pred)\n",
    "l2_r2 = r2_score(Y_test.values, l2_pred)\n",
    "ols_r2 = r2_score(Y_test.values, ols_pred)"
   ]
  },
  {
   "cell_type": "code",
   "execution_count": 20,
   "metadata": {},
   "outputs": [
    {
     "output_type": "execute_result",
     "data": {
      "text/plain": [
       "-0.00020526102920137568"
      ]
     },
     "metadata": {},
     "execution_count": 20
    }
   ],
   "source": [
    "max(l1_r2, l2_r2, ols_r2)"
   ]
  },
  {
   "source": [
    "## PCA Model\n",
    "$$\n",
    "R_{i,t} = \\sum_k \\beta_k PCA_{k, t-l}\n",
    "$$"
   ],
   "cell_type": "markdown",
   "metadata": {}
  },
  {
   "cell_type": "code",
   "execution_count": 21,
   "metadata": {},
   "outputs": [],
   "source": [
    "from sklearn.decomposition import PCA"
   ]
  },
  {
   "cell_type": "code",
   "execution_count": 22,
   "metadata": {},
   "outputs": [],
   "source": [
    "transformer = PCA(n_components=20)\n",
    "X_transformed = transformer.fit_transform(X_tv)"
   ]
  },
  {
   "cell_type": "code",
   "execution_count": 23,
   "metadata": {},
   "outputs": [],
   "source": [
    "l1reg = LassoCV(alphas=alpha, fit_intercept=True, cv=10, n_jobs=-1).fit(X_transformed, Y_tv)\n",
    "l1_pred = l1reg.predict(transformer.transform(X_test))\n",
    "\n",
    "l2reg = RidgeCV(alphas=alpha, fit_intercept=True, cv=10).fit(X_transformed, Y_tv)\n",
    "l2_pred = l2reg.predict(transformer.transform(X_test))\n",
    "\n",
    "ols = sm.OLS(Y_tv, sm.add_constant(X_transformed)).fit()\n",
    "ols_pred = ols.predict(sm.add_constant(transformer.transform(X_test)))"
   ]
  },
  {
   "cell_type": "code",
   "execution_count": 24,
   "metadata": {},
   "outputs": [],
   "source": [
    "l1_r2 = r2_score(Y_test.values, l1_pred)\n",
    "l2_r2 = r2_score(Y_test.values, l2_pred)\n",
    "ols_r2 = r2_score(Y_test.values, ols_pred)"
   ]
  },
  {
   "cell_type": "code",
   "execution_count": 25,
   "metadata": {},
   "outputs": [
    {
     "output_type": "execute_result",
     "data": {
      "text/plain": [
       "-0.00020526102920137568"
      ]
     },
     "metadata": {},
     "execution_count": 25
    }
   ],
   "source": [
    "max(l1_r2, l2_r2, ols_r2)"
   ]
  },
  {
   "source": [
    "## LSTM baby"
   ],
   "cell_type": "markdown",
   "metadata": {}
  },
  {
   "cell_type": "code",
   "execution_count": 26,
   "metadata": {},
   "outputs": [
    {
     "output_type": "stream",
     "name": "stderr",
     "text": [
      "Using TensorFlow backend.\n"
     ]
    }
   ],
   "source": [
    "# ML imports\n",
    "from keras.models import Sequential\n",
    "from keras.layers import Dense, Dropout, LSTM, Activation\n",
    "import keras.backend as K\n",
    "from keras.callbacks import EarlyStopping\n",
    "from tensorflow.keras import initializers\n",
    "\n",
    "from sklearn.model_selection import train_test_split"
   ]
  },
  {
   "cell_type": "code",
   "execution_count": 27,
   "metadata": {},
   "outputs": [],
   "source": [
    "def coeff_deter(y_true, y_pred):\n",
    "    SS_res = K.sum(K.square(y_true - y_pred) * 1e6)\n",
    "    SS_tot = K.sum(K.square(y_true - K.mean(y_true)) * 1e6)\n",
    "    return 1 - SS_res / (SS_tot + K.epsilon())"
   ]
  },
  {
   "cell_type": "code",
   "execution_count": 28,
   "metadata": {},
   "outputs": [],
   "source": [
    "block_size = 30\n",
    "\n",
    "X_ml, Y_ml = [], []\n",
    "for i in range(X_tv.shape[0] - block_size):\n",
    "    x = X_tv.iloc[i:i+block_size].values.T.flatten()\n",
    "    y = Y_tv.iloc[i+block_size-5:i+block_size].values.T\n",
    "    X_ml.append(x)\n",
    "    Y_ml.append(y)\n",
    "\n",
    "\n",
    "X_mltest, Y_mltest = [], []\n",
    "for i in range(X_test.shape[0] - block_size):\n",
    "    x = X_test.iloc[i:i+block_size].values.T.flatten()\n",
    "    y = Y_test.iloc[i+block_size-5:i+block_size].values.T\n",
    "    X_mltest.append(x)\n",
    "    Y_mltest.append(y)"
   ]
  },
  {
   "cell_type": "code",
   "execution_count": 29,
   "metadata": {},
   "outputs": [],
   "source": [
    "X_ml = np.array(X_ml)\n",
    "X_ml = X_ml.reshape(X_ml.shape[0], 1, X_ml.shape[1])\n",
    "Y_ml = np.array(Y_ml)\n",
    "\n",
    "X_mltest = np.array(X_mltest)\n",
    "X_mltest = X_mltest.reshape(X_mltest.shape[0], 1, X_mltest.shape[1])\n",
    "Y_mltest = np.array(Y_mltest)"
   ]
  },
  {
   "cell_type": "code",
   "execution_count": 30,
   "metadata": {},
   "outputs": [
    {
     "output_type": "stream",
     "name": "stdout",
     "text": [
      "WARNING:tensorflow:From C:\\Users\\Andyy\\AppData\\Local\\Continuum\\anaconda3\\lib\\site-packages\\tensorflow_core\\python\\ops\\resource_variable_ops.py:1630: calling BaseResourceVariable.__init__ (from tensorflow.python.ops.resource_variable_ops) with constraint is deprecated and will be removed in a future version.\nInstructions for updating:\nIf using Keras pass *_constraint arguments to layers.\n"
     ]
    }
   ],
   "source": [
    "initializer = initializers.glorot_normal(seed=42)\n",
    "model = Sequential()\n",
    "model.add(LSTM(100, input_shape=(X_ml.shape[1], X_ml.shape[2]), kernel_initializer=initializer, return_sequences=True))\n",
    "model.add(Dropout(0.4))\n",
    "model.add(LSTM(50, input_shape=(X_ml.shape[1], X_ml.shape[2]), kernel_initializer=initializer))\n",
    "model.add(Dropout(0.4))\n",
    "model.add(Dense(25, kernel_initializer=initializer))\n",
    "model.add(Dropout(0.4))\n",
    "model.add(Dense(5, kernel_initializer=initializer))\n",
    "model.compile(loss='mae', optimizer='adam', metrics=[coeff_deter])\n",
    "\n",
    "es = EarlyStopping(monitor='val_coeff_deter', mode='max', patience=5)"
   ]
  },
  {
   "cell_type": "code",
   "execution_count": 31,
   "metadata": {},
   "outputs": [
    {
     "output_type": "stream",
     "name": "stdout",
     "text": [
      "WARNING:tensorflow:From C:\\Users\\Andyy\\AppData\\Local\\Continuum\\anaconda3\\lib\\site-packages\\keras\\backend\\tensorflow_backend.py:422: The name tf.global_variables is deprecated. Please use tf.compat.v1.global_variables instead.\n\n"
     ]
    },
    {
     "output_type": "execute_result",
     "data": {
      "text/plain": [
       "<keras.callbacks.callbacks.History at 0x1f953bdefc8>"
      ]
     },
     "metadata": {},
     "execution_count": 31
    }
   ],
   "source": [
    "model.fit(X_ml, Y_ml,\n",
    "            batch_size=32,\n",
    "            validation_data=(X_mltest, Y_mltest),\n",
    "            epochs=50,\n",
    "            callbacks=[es],\n",
    "            verbose=0)\n"
   ]
  },
  {
   "cell_type": "code",
   "execution_count": 32,
   "metadata": {},
   "outputs": [
    {
     "output_type": "execute_result",
     "data": {
      "text/plain": [
       "-0.07252833463933368"
      ]
     },
     "metadata": {},
     "execution_count": 32
    }
   ],
   "source": [
    "y_pred = model.predict(X_mltest)\n",
    "r2_score(Y_mltest, y_pred)"
   ]
  },
  {
   "source": [
    "## LSTM w/ Factor"
   ],
   "cell_type": "markdown",
   "metadata": {}
  },
  {
   "cell_type": "code",
   "execution_count": 95,
   "metadata": {},
   "outputs": [],
   "source": [
    "transformer = FactorAnalysis(n_components=20, max_iter=5000, svd_method='lapack')\n",
    "X_transformed = transformer.fit_transform(X_tv)\n",
    "X_test_tran = transformer.transform(X_test)"
   ]
  },
  {
   "cell_type": "code",
   "execution_count": 96,
   "metadata": {},
   "outputs": [],
   "source": [
    "block_size = 30\n",
    "\n",
    "X_ml, Y_ml = [], []\n",
    "for i in range(X_transformed.shape[0] - block_size):\n",
    "    x = X_transformed[i:i+block_size,:].T.flatten()\n",
    "    y = Y_tv.iloc[i+block_size-5:i+block_size].values.T\n",
    "    X_ml.append(x)\n",
    "    Y_ml.append(y)\n",
    "\n",
    "\n",
    "X_mltest, Y_mltest = [], []\n",
    "for i in range(X_test_tran.shape[0] - block_size):\n",
    "    x = X_test_tran[i:i+block_size,:].T.flatten()\n",
    "    y = Y_test.iloc[i+block_size-5:i+block_size].values.T\n",
    "    X_mltest.append(x)\n",
    "    Y_mltest.append(y)"
   ]
  },
  {
   "cell_type": "code",
   "execution_count": 97,
   "metadata": {},
   "outputs": [],
   "source": [
    "X_ml = np.array(X_ml)\n",
    "X_ml = X_ml.reshape(X_ml.shape[0], 1, X_ml.shape[1])\n",
    "Y_ml = np.array(Y_ml)\n",
    "\n",
    "X_mltest = np.array(X_mltest)\n",
    "X_mltest = X_mltest.reshape(X_mltest.shape[0], 1, X_mltest.shape[1])\n",
    "Y_mltest = np.array(Y_mltest)"
   ]
  },
  {
   "cell_type": "code",
   "execution_count": 101,
   "metadata": {},
   "outputs": [
    {
     "output_type": "execute_result",
     "data": {
      "text/plain": [
       "(4146, 1, 600)"
      ]
     },
     "metadata": {},
     "execution_count": 101
    }
   ],
   "source": [
    "X_ml.shape"
   ]
  },
  {
   "cell_type": "code",
   "execution_count": 102,
   "metadata": {},
   "outputs": [
    {
     "output_type": "execute_result",
     "data": {
      "text/plain": [
       "(4146, 5)"
      ]
     },
     "metadata": {},
     "execution_count": 102
    }
   ],
   "source": [
    "Y_ml.shape"
   ]
  },
  {
   "cell_type": "code",
   "execution_count": 109,
   "metadata": {},
   "outputs": [],
   "source": [
    "xtr, xva, ytr, yva = train_test_split(X_ml, Y_ml, test_size=0.2)"
   ]
  },
  {
   "cell_type": "code",
   "execution_count": 110,
   "metadata": {},
   "outputs": [
    {
     "output_type": "execute_result",
     "data": {
      "text/plain": [
       "(3316, 1, 600)"
      ]
     },
     "metadata": {},
     "execution_count": 110
    }
   ],
   "source": [
    "xtr.shape"
   ]
  },
  {
   "cell_type": "code",
   "execution_count": 111,
   "metadata": {},
   "outputs": [
    {
     "output_type": "execute_result",
     "data": {
      "text/plain": [
       "(830, 1, 600)"
      ]
     },
     "metadata": {},
     "execution_count": 111
    }
   ],
   "source": [
    "xva.shape"
   ]
  },
  {
   "cell_type": "code",
   "execution_count": 98,
   "metadata": {},
   "outputs": [],
   "source": [
    "initializer = initializers.glorot_normal(seed=42)\n",
    "model = Sequential()\n",
    "model.add(LSTM(100, input_shape=(X_ml.shape[1], X_ml.shape[2]), kernel_initializer=initializer, return_sequences=True))\n",
    "model.add(Dropout(0.4))\n",
    "model.add(LSTM(50, input_shape=(X_ml.shape[1], X_ml.shape[2]), kernel_initializer=initializer))\n",
    "model.add(Dropout(0.4))\n",
    "model.add(Dense(25, kernel_initializer=initializer))\n",
    "model.add(Dropout(0.4))\n",
    "model.add(Dense(5, kernel_initializer=initializer))\n",
    "model.compile(loss='mae', optimizer='adam', metrics=[coeff_deter])\n",
    "\n",
    "es = EarlyStopping(monitor='val_coeff_deter', mode='max', patience=5)"
   ]
  },
  {
   "cell_type": "code",
   "execution_count": 99,
   "metadata": {},
   "outputs": [
    {
     "output_type": "execute_result",
     "data": {
      "text/plain": [
       "<keras.callbacks.callbacks.History at 0x1fa40b917c8>"
      ]
     },
     "metadata": {},
     "execution_count": 99
    }
   ],
   "source": [
    "model.fit(X_ml, Y_ml,\n",
    "            batch_size=32,\n",
    "            validation_data=(X_mltest, Y_mltest),\n",
    "            epochs=50,\n",
    "            callbacks=[es],\n",
    "            verbose=0)\n"
   ]
  },
  {
   "cell_type": "code",
   "execution_count": 100,
   "metadata": {},
   "outputs": [
    {
     "output_type": "execute_result",
     "data": {
      "text/plain": [
       "-0.011376479877204382"
      ]
     },
     "metadata": {},
     "execution_count": 100
    }
   ],
   "source": [
    "y_pred = model.predict(X_mltest)\n",
    "r2_score(Y_mltest, y_pred)"
   ]
  },
  {
   "source": [
    "## LSTM w/ PCA"
   ],
   "cell_type": "markdown",
   "metadata": {}
  },
  {
   "cell_type": "code",
   "execution_count": 39,
   "metadata": {},
   "outputs": [],
   "source": [
    "transformer = PCA(n_components=20)\n",
    "X_transformed = transformer.fit_transform(X_tv)\n",
    "X_test_tran = transformer.transform(X_test)"
   ]
  },
  {
   "cell_type": "code",
   "execution_count": 40,
   "metadata": {},
   "outputs": [],
   "source": [
    "block_size = 30\n",
    "\n",
    "X_ml, Y_ml = [], []\n",
    "for i in range(X_transformed.shape[0] - block_size):\n",
    "    x = X_transformed[i:i+block_size,:].T.flatten()\n",
    "    y = Y_tv.iloc[i+block_size-5:i+block_size].values.T\n",
    "    X_ml.append(x)\n",
    "    Y_ml.append(y)\n",
    "\n",
    "\n",
    "X_mltest, Y_mltest = [], []\n",
    "for i in range(X_test_tran.shape[0] - block_size):\n",
    "    x = X_test_tran[i:i+block_size,:].T.flatten()\n",
    "    y = Y_test.iloc[i+block_size-5:i+block_size].values.T\n",
    "    X_mltest.append(x)\n",
    "    Y_mltest.append(y)"
   ]
  },
  {
   "cell_type": "code",
   "execution_count": 41,
   "metadata": {},
   "outputs": [],
   "source": [
    "X_ml = np.array(X_ml)\n",
    "X_ml = X_ml.reshape(X_ml.shape[0], 1, X_ml.shape[1])\n",
    "Y_ml = np.array(Y_ml)\n",
    "\n",
    "X_mltest = np.array(X_mltest)\n",
    "X_mltest = X_mltest.reshape(X_mltest.shape[0], 1, X_mltest.shape[1])\n",
    "Y_mltest = np.array(Y_mltest)"
   ]
  },
  {
   "cell_type": "code",
   "execution_count": 42,
   "metadata": {},
   "outputs": [],
   "source": [
    "initializer = initializers.glorot_normal(seed=42)\n",
    "model = Sequential()\n",
    "model.add(LSTM(100, input_shape=(X_ml.shape[1], X_ml.shape[2]), kernel_initializer=initializer, return_sequences=True))\n",
    "model.add(Dropout(0.4))\n",
    "model.add(LSTM(50, input_shape=(X_ml.shape[1], X_ml.shape[2]), kernel_initializer=initializer))\n",
    "model.add(Dropout(0.4))\n",
    "model.add(Dense(25, kernel_initializer=initializer))\n",
    "model.add(Dropout(0.4))\n",
    "model.add(Dense(5, kernel_initializer=initializer))\n",
    "model.compile(loss='mae', optimizer='adam', metrics=[coeff_deter])\n",
    "\n",
    "es = EarlyStopping(monitor='val_coeff_deter', mode='max', patience=5)"
   ]
  },
  {
   "cell_type": "code",
   "execution_count": 43,
   "metadata": {},
   "outputs": [
    {
     "output_type": "execute_result",
     "data": {
      "text/plain": [
       "<keras.callbacks.callbacks.History at 0x1f96203bf48>"
      ]
     },
     "metadata": {},
     "execution_count": 43
    }
   ],
   "source": [
    "model.fit(X_ml, Y_ml,\n",
    "            batch_size=32,\n",
    "            validation_data=(X_mltest, Y_mltest),\n",
    "            epochs=50,\n",
    "            callbacks=[es],\n",
    "            verbose=0)\n"
   ]
  },
  {
   "cell_type": "code",
   "execution_count": 44,
   "metadata": {},
   "outputs": [
    {
     "output_type": "execute_result",
     "data": {
      "text/plain": [
       "-0.03492347771075051"
      ]
     },
     "metadata": {},
     "execution_count": 44
    }
   ],
   "source": [
    "y_pred = model.predict(X_mltest)\n",
    "r2_score(Y_mltest, y_pred)"
   ]
  },
  {
   "cell_type": "code",
   "execution_count": 125,
   "metadata": {},
   "outputs": [
    {
     "output_type": "execute_result",
     "data": {
      "text/plain": [
       "1015"
      ]
     },
     "metadata": {},
     "execution_count": 125
    }
   ],
   "source": [
    "test = np.apply_along_axis(lambda x: np.cumprod(1+x)[-1], 1, y_pred)\n",
    "len(test)"
   ]
  },
  {
   "cell_type": "code",
   "execution_count": 64,
   "metadata": {},
   "outputs": [
    {
     "output_type": "execute_result",
     "data": {
      "text/plain": [
       "array([[ 1.5423977e-04,  2.9314016e-03, -4.2806850e-03,  3.0069626e-03,\n",
       "         6.4895186e-04],\n",
       "       [ 3.7038170e-03, -1.1275200e-03,  5.5413356e-04, -9.3834952e-04,\n",
       "         4.6284887e-04],\n",
       "       [-9.9192571e-04,  1.3953125e-03, -4.9736386e-04,  1.7951954e-03,\n",
       "        -9.5262541e-05],\n",
       "       ...,\n",
       "       [ 3.1616448e-03, -2.1325932e-03, -1.7393162e-03,  1.5560952e-03,\n",
       "         5.1253976e-04],\n",
       "       [-9.1161032e-04,  8.7106199e-04, -1.5744175e-03,  8.2369539e-04,\n",
       "         2.4380133e-06],\n",
       "       [ 2.4724723e-04, -1.9982834e-03, -4.2590452e-04,  3.7878253e-03,\n",
       "        -1.8244577e-03]], dtype=float32)"
      ]
     },
     "metadata": {},
     "execution_count": 64
    }
   ],
   "source": [
    "y_pred"
   ]
  },
  {
   "cell_type": "code",
   "execution_count": 115,
   "metadata": {},
   "outputs": [],
   "source": [
    "from statsmodels.tsa.stattools import adfuller"
   ]
  },
  {
   "cell_type": "code",
   "execution_count": 122,
   "metadata": {},
   "outputs": [],
   "source": [
    "adval = adfuller(Y.iloc[-1015:])"
   ]
  },
  {
   "cell_type": "code",
   "execution_count": 123,
   "metadata": {},
   "outputs": [
    {
     "output_type": "execute_result",
     "data": {
      "text/plain": [
       "1.3615278532780622e-20"
      ]
     },
     "metadata": {},
     "execution_count": 123
    }
   ],
   "source": [
    "adval[1]"
   ]
  },
  {
   "cell_type": "code",
   "execution_count": 124,
   "metadata": {},
   "outputs": [
    {
     "output_type": "execute_result",
     "data": {
      "text/plain": [
       "0.001"
      ]
     },
     "metadata": {},
     "execution_count": 124
    }
   ],
   "source": [
    "1e-3"
   ]
  },
  {
   "cell_type": "code",
   "execution_count": 90,
   "metadata": {},
   "outputs": [],
   "source": [
    "def measure_profit(price, indicator):\n",
    "    assert len(price) == len(indicator)\n",
    "    inventory = 0\n",
    "    asset = 0\n",
    "    record = [asset]\n",
    "    for i in range(len(price)):\n",
    "        trend_good = indicator[i] > 1\n",
    "        p = price[i]\n",
    "        if trend_good and inventory == 0:\n",
    "            # buy\n",
    "            asset -= p\n",
    "            inventory += 1\n",
    "        elif not trend_good and inventory == 1:\n",
    "            # sell\n",
    "            asset += p\n",
    "            inventory -= 1\n",
    "        elif i == len(price) - 1 and inventory == 1:\n",
    "            asset += p\n",
    "            inventory -= 1\n",
    "        else:\n",
    "            asset = record[-1]\n",
    "        record.append(asset)\n",
    "    return asset, record[1:]"
   ]
  },
  {
   "cell_type": "code",
   "execution_count": 91,
   "metadata": {},
   "outputs": [],
   "source": [
    "ass, rec = measure_profit(temp['ASB'].iloc[-1015:].values, test)"
   ]
  },
  {
   "cell_type": "code",
   "execution_count": 92,
   "metadata": {},
   "outputs": [
    {
     "output_type": "execute_result",
     "data": {
      "text/plain": [
       "-7.980000000000032"
      ]
     },
     "metadata": {},
     "execution_count": 92
    }
   ],
   "source": [
    "ass"
   ]
  },
  {
   "cell_type": "code",
   "execution_count": null,
   "metadata": {},
   "outputs": [],
   "source": []
  }
 ]
}