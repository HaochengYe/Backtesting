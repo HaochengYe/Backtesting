{
 "cells": [
  {
   "cell_type": "code",
   "execution_count": 3,
   "metadata": {},
   "outputs": [],
   "source": [
    "import yfinance as yf\n",
    "from datetime import datetime\n",
    "import pandas as pd\n",
    "import matplotlib.pyplot as plt\n",
    "from statsmodels.tsa.stattools import coint\n",
    "import statsmodels.api as sm\n",
    "import pandas as pd\n",
    "import numpy as np\n",
    "import xgboost as xgb"
   ]
  },
  {
   "cell_type": "code",
   "execution_count": 4,
   "metadata": {},
   "outputs": [],
   "source": [
    "START = datetime(2000, 1, 1)\n",
    "END = datetime(2021, 1, 8)\n",
    "tqqq = yf.Ticker(\"TQQQ\")\n",
    "hist_tqqq = tqqq.history(start=START, end=END)"
   ]
  },
  {
   "cell_type": "code",
   "execution_count": 5,
   "metadata": {},
   "outputs": [],
   "source": [
    "START = datetime(2000, 1, 1)\n",
    "END = datetime(2021, 1, 8)\n",
    "uvxy = yf.Ticker(\"UVXY\")\n",
    "hist_uvxy = uvxy.history(start=START, end=END)"
   ]
  },
  {
   "cell_type": "code",
   "execution_count": 6,
   "metadata": {},
   "outputs": [],
   "source": [
    "dta = pd.read_csv('broader_stock.csv')"
   ]
  },
  {
   "cell_type": "code",
   "execution_count": 7,
   "metadata": {},
   "outputs": [],
   "source": [
    "def data_preprocess(dta):\n",
    "    dta['Date'] = pd.to_datetime(dta['Date'], format='%Y-%m-%d')\n",
    "    dta = dta.set_index(dta['Date'])\n",
    "    # NHLI not traded\n",
    "    dta.drop(['Date', 'NHLI'], axis=1, inplace=True)\n",
    "    dta.dropna(how='all', inplace=True)\n",
    "    for tick in dta.columns:\n",
    "        tick_series = dta[tick]\n",
    "        start_pos = tick_series.first_valid_index()\n",
    "        valid_series = tick_series.loc[start_pos:]\n",
    "        if valid_series.isna().sum() > 0:\n",
    "            dta.drop(tick, axis=1, inplace=True)\n",
    "\n",
    "    for tick in dta.columns:\n",
    "        dta[tick] = dta[tick].mask(dta[tick] == 0).ffill(downcast='infer')\n",
    "\n",
    "    return dta[dta.index >= dta['SPY'].first_valid_index()]"
   ]
  },
  {
   "cell_type": "code",
   "execution_count": 8,
   "metadata": {},
   "outputs": [],
   "source": [
    "dta = data_preprocess(dta)"
   ]
  },
  {
   "cell_type": "code",
   "execution_count": 9,
   "metadata": {},
   "outputs": [],
   "source": [
    "pct_tqqq = hist_tqqq.pct_change()\n",
    "pct_uvxy = hist_uvxy.pct_change()\n",
    "pct_dta = dta.pct_change()"
   ]
  },
  {
   "cell_type": "markdown",
   "metadata": {},
   "source": [
    "### Specify subject of interest"
   ]
  },
  {
   "cell_type": "code",
   "execution_count": 375,
   "metadata": {},
   "outputs": [],
   "source": [
    "temp_dta = pd.concat([pct_tqqq.Close, pct_dta], axis=1)\n",
    "temp_dta = temp_dta[temp_dta['Close'].notnull()]"
   ]
  },
  {
   "cell_type": "code",
   "execution_count": 376,
   "metadata": {},
   "outputs": [],
   "source": [
    "temp_dta['Close_LAG'] = temp_dta['Close'].shift(-5)\n",
    "temp_dta.dropna(inplace=True)"
   ]
  },
  {
   "cell_type": "code",
   "execution_count": 124,
   "metadata": {},
   "outputs": [],
   "source": [
    "cointegrat = {}\n",
    "correlat = {}"
   ]
  },
  {
   "cell_type": "code",
   "execution_count": 125,
   "metadata": {},
   "outputs": [],
   "source": [
    "for col in temp_dta.columns[:-1]:\n",
    "    x = temp_dta[col]\n",
    "    score, pval, _ = coint(x, temp_dta['Close_LAG'], autolag='t-stat')\n",
    "    corr = abs(x.corr(temp_dta['Close_LAG']))\n",
    "    cointegrat[col] = pval\n",
    "    correlat[col] = corr"
   ]
  },
  {
   "cell_type": "code",
   "execution_count": 126,
   "metadata": {},
   "outputs": [],
   "source": [
    "best_coint = sorted(cointegrat, key=cointegrat.get)[:50]\n",
    "best_corr = sorted(correlat, key=correlat.get, reverse=True)[:50]"
   ]
  },
  {
   "cell_type": "code",
   "execution_count": 127,
   "metadata": {},
   "outputs": [],
   "source": [
    "intersect = list(set(best_coint) & set(best_corr))\n",
    "union_X = list(set(best_coint) | set(best_corr))"
   ]
  },
  {
   "cell_type": "markdown",
   "metadata": {},
   "source": [
    "# Testing XGB Regressor"
   ]
  },
  {
   "cell_type": "code",
   "execution_count": 442,
   "metadata": {},
   "outputs": [],
   "source": [
    "from xgboost import XGBRegressor, XGBClassifier\n",
    "from sklearn.model_selection import cross_val_score\n",
    "from sklearn.model_selection import train_test_split\n",
    "from sklearn.metrics import r2_score, accuracy_score"
   ]
  },
  {
   "cell_type": "code",
   "execution_count": 443,
   "metadata": {},
   "outputs": [],
   "source": [
    "X = temp_dta[union_X].values\n",
    "y = temp_dta['Close_LAG'].values"
   ]
  },
  {
   "cell_type": "code",
   "execution_count": 444,
   "metadata": {},
   "outputs": [],
   "source": [
    "X_train, X_test, y_train, y_test = train_test_split(X, y, test_size=0.2, shuffle=True, random_state=42)\n",
    "dtrain = xgb.DMatrix(X_train, label=y_train)\n",
    "dtest = xgb.DMatrix(X_test, label=y_test)"
   ]
  },
  {
   "cell_type": "code",
   "execution_count": 445,
   "metadata": {},
   "outputs": [],
   "source": [
    "params = {\n",
    "    # Parameters that we are going to tune.\n",
    "    'max_depth':3,\n",
    "    'min_child_weight': 1,\n",
    "    'eta':.3,\n",
    "    'subsample': 1,\n",
    "    'colsample_bytree': 1,\n",
    "    # Other parameters\n",
    "    'objective':'reg:squarederror',\n",
    "    'eval_metric': 'rmse'\n",
    "}"
   ]
  },
  {
   "cell_type": "code",
   "execution_count": 446,
   "metadata": {},
   "outputs": [
    {
     "name": "stdout",
     "output_type": "stream",
     "text": [
      "[0]\tTest-rmse:0.350954\n",
      "Will train until Test-rmse hasn't improved in 10 rounds.\n",
      "[1]\tTest-rmse:0.247838\n",
      "[2]\tTest-rmse:0.176371\n",
      "[3]\tTest-rmse:0.128233\n",
      "[4]\tTest-rmse:0.09637\n",
      "[5]\tTest-rmse:0.075991\n",
      "[6]\tTest-rmse:0.064069\n",
      "[7]\tTest-rmse:0.05724\n",
      "[8]\tTest-rmse:0.053927\n",
      "[9]\tTest-rmse:0.051903\n",
      "[10]\tTest-rmse:0.051572\n",
      "[11]\tTest-rmse:0.050648\n",
      "[12]\tTest-rmse:0.050874\n",
      "[13]\tTest-rmse:0.050885\n",
      "[14]\tTest-rmse:0.050639\n",
      "[15]\tTest-rmse:0.050347\n",
      "[16]\tTest-rmse:0.050037\n",
      "[17]\tTest-rmse:0.049864\n",
      "[18]\tTest-rmse:0.04968\n",
      "[19]\tTest-rmse:0.049569\n",
      "[20]\tTest-rmse:0.049611\n",
      "[21]\tTest-rmse:0.049798\n",
      "[22]\tTest-rmse:0.04975\n",
      "[23]\tTest-rmse:0.049393\n",
      "[24]\tTest-rmse:0.049462\n",
      "[25]\tTest-rmse:0.049481\n",
      "[26]\tTest-rmse:0.049526\n",
      "[27]\tTest-rmse:0.049436\n",
      "[28]\tTest-rmse:0.049559\n",
      "[29]\tTest-rmse:0.049697\n",
      "[30]\tTest-rmse:0.049632\n",
      "[31]\tTest-rmse:0.049449\n",
      "[32]\tTest-rmse:0.04939\n",
      "[33]\tTest-rmse:0.049275\n",
      "[34]\tTest-rmse:0.049418\n",
      "[35]\tTest-rmse:0.049424\n",
      "[36]\tTest-rmse:0.049489\n",
      "[37]\tTest-rmse:0.049515\n",
      "[38]\tTest-rmse:0.050007\n",
      "[39]\tTest-rmse:0.04996\n",
      "[40]\tTest-rmse:0.049876\n",
      "[41]\tTest-rmse:0.049803\n",
      "[42]\tTest-rmse:0.049567\n",
      "[43]\tTest-rmse:0.049637\n",
      "Stopping. Best iteration:\n",
      "[33]\tTest-rmse:0.049275\n",
      "\n"
     ]
    }
   ],
   "source": [
    "model = xgb.train(\n",
    "    params,\n",
    "    dtrain,\n",
    "    num_boost_round=1000,\n",
    "    evals=[(dtest, \"Test\")],\n",
    "    early_stopping_rounds=10\n",
    ")"
   ]
  },
  {
   "cell_type": "code",
   "execution_count": 447,
   "metadata": {},
   "outputs": [
    {
     "data": {
      "text/plain": [
       "0.9397318756405516"
      ]
     },
     "execution_count": 447,
     "metadata": {},
     "output_type": "execute_result"
    }
   ],
   "source": [
    "is_pred = model.predict(dtrain)\n",
    "r2_score(y_train, is_pred)"
   ]
  },
  {
   "cell_type": "code",
   "execution_count": 448,
   "metadata": {},
   "outputs": [
    {
     "data": {
      "text/plain": [
       "-0.03227657181892862"
      ]
     },
     "execution_count": 448,
     "metadata": {},
     "output_type": "execute_result"
    }
   ],
   "source": [
    "y_pred = model.predict(dtest)\n",
    "r2_score(y_test, y_pred)"
   ]
  },
  {
   "cell_type": "markdown",
   "metadata": {},
   "source": [
    "# Testing XGB Classifier"
   ]
  },
  {
   "cell_type": "code",
   "execution_count": 459,
   "metadata": {},
   "outputs": [],
   "source": [
    "X = temp_dta[union_X].values\n",
    "y = temp_dta['Close_LAG'].values\n",
    "y = (y > 0).astype(int)"
   ]
  },
  {
   "cell_type": "code",
   "execution_count": 460,
   "metadata": {},
   "outputs": [],
   "source": [
    "X_train, X_test, y_train, y_test = train_test_split(X, y, test_size=0.2, shuffle=True, random_state=42, stratify=y)\n",
    "dtrain = xgb.DMatrix(X_train, label=y_train)\n",
    "dtest = xgb.DMatrix(X_test, label=y_test)"
   ]
  },
  {
   "cell_type": "code",
   "execution_count": 461,
   "metadata": {},
   "outputs": [],
   "source": [
    "params = {\n",
    "    # Parameters that we are going to tune.\n",
    "    'max_depth':2,\n",
    "    'min_child_weight': 1,\n",
    "    'eta':.3,\n",
    "    'subsample': 1,\n",
    "    'colsample_bytree': 1,\n",
    "    # Other parameters\n",
    "    'objective':'binary:logistic',\n",
    "    'eval_metric': 'auc'\n",
    "}"
   ]
  },
  {
   "cell_type": "code",
   "execution_count": 462,
   "metadata": {},
   "outputs": [
    {
     "name": "stdout",
     "output_type": "stream",
     "text": [
      "[0]\tTest-auc:0.470323\n",
      "Will train until Test-auc hasn't improved in 10 rounds.\n",
      "[1]\tTest-auc:0.496703\n",
      "[2]\tTest-auc:0.509719\n",
      "[3]\tTest-auc:0.490802\n",
      "[4]\tTest-auc:0.511801\n",
      "[5]\tTest-auc:0.560569\n",
      "[6]\tTest-auc:0.552586\n",
      "[7]\tTest-auc:0.544776\n",
      "[8]\tTest-auc:0.593891\n",
      "[9]\tTest-auc:0.57428\n",
      "[10]\tTest-auc:0.586602\n",
      "[11]\tTest-auc:0.578619\n",
      "[12]\tTest-auc:0.570288\n",
      "[13]\tTest-auc:0.577751\n",
      "[14]\tTest-auc:0.579139\n",
      "[15]\tTest-auc:0.591982\n",
      "[16]\tTest-auc:0.607254\n",
      "[17]\tTest-auc:0.609684\n",
      "[18]\tTest-auc:0.597536\n",
      "[19]\tTest-auc:0.61194\n",
      "[20]\tTest-auc:0.590073\n",
      "[21]\tTest-auc:0.584519\n",
      "[22]\tTest-auc:0.583131\n",
      "[23]\tTest-auc:0.57723\n",
      "[24]\tTest-auc:0.572024\n",
      "[25]\tTest-auc:0.595627\n",
      "[26]\tTest-auc:0.596668\n",
      "[27]\tTest-auc:0.600833\n",
      "[28]\tTest-auc:0.605692\n",
      "[29]\tTest-auc:0.608122\n",
      "Stopping. Best iteration:\n",
      "[19]\tTest-auc:0.61194\n",
      "\n"
     ]
    }
   ],
   "source": [
    "model = xgb.train(\n",
    "    params,\n",
    "    dtrain,\n",
    "    num_boost_round=1000,\n",
    "    evals=[(dtest, \"Test\")],\n",
    "    early_stopping_rounds=10\n",
    ")"
   ]
  },
  {
   "cell_type": "code",
   "execution_count": 463,
   "metadata": {},
   "outputs": [
    {
     "data": {
      "text/plain": [
       "0.9151376146788991"
      ]
     },
     "execution_count": 463,
     "metadata": {},
     "output_type": "execute_result"
    }
   ],
   "source": [
    "is_pred = model.predict(dtrain)\n",
    "is_pred = (is_pred > 0.5).astype(int)\n",
    "accuracy_score(y_train, is_pred)"
   ]
  },
  {
   "cell_type": "code",
   "execution_count": 464,
   "metadata": {},
   "outputs": [
    {
     "data": {
      "text/plain": [
       "0.6"
      ]
     },
     "execution_count": 464,
     "metadata": {},
     "output_type": "execute_result"
    }
   ],
   "source": [
    "y_pred = model.predict(dtest)\n",
    "y_pred = (y_pred > 0.5).astype(int)\n",
    "accuracy_score(y_test, y_pred)"
   ]
  },
  {
   "cell_type": "markdown",
   "metadata": {},
   "source": [
    "# Measure P&L"
   ]
  },
  {
   "cell_type": "code",
   "execution_count": 467,
   "metadata": {},
   "outputs": [],
   "source": [
    "ttl_dtest = xgb.DMatrix(X, np.zeros(X.shape[0]))\n",
    "ttl_pred = model.predict(ttl_dtest)\n",
    "ttl_pred = (ttl_pred > 0.5).astype(int)"
   ]
  },
  {
   "cell_type": "code",
   "execution_count": 468,
   "metadata": {},
   "outputs": [],
   "source": [
    "inventory = 0\n",
    "asset = 0\n",
    "record = [asset]"
   ]
  },
  {
   "cell_type": "code",
   "execution_count": 469,
   "metadata": {},
   "outputs": [],
   "source": [
    "for i, dt in enumerate(temp_dta[union_X].index):\n",
    "    price = hist_tqqq.loc[dt]['Close']\n",
    "    trend_good = ttl_pred[i] == 1\n",
    "    if trend_good and inventory == 0 and i != len(ttl_pred) - 1:\n",
    "        # buy\n",
    "        asset -= price\n",
    "        inventory += 1\n",
    "    elif not trend_good and inventory == 1:\n",
    "        # sell\n",
    "        asset += price\n",
    "        inventory -= 1\n",
    "    elif i == len(ttl_pred) - 1 and inventory == 1:\n",
    "        # liquidate in the end\n",
    "        print('lit', i)\n",
    "        asset += price\n",
    "        inventory -= 1\n",
    "    else:\n",
    "        asset = record[-1]\n",
    "    record.append(asset)\n",
    "\n"
   ]
  },
  {
   "cell_type": "code",
   "execution_count": 470,
   "metadata": {},
   "outputs": [],
   "source": [
    "sub_hist = hist_tqqq.loc[temp_dta[union_X].index]"
   ]
  },
  {
   "cell_type": "code",
   "execution_count": 471,
   "metadata": {},
   "outputs": [],
   "source": [
    "ttl_ret = asset / sub_hist.iloc[0].Close\n",
    "net_ret = (asset - sub_hist.iloc[-1].Close + sub_hist.iloc[0].Close) / sub_hist.iloc[0].Close\n",
    "pct_record = np.array(record[1:]) / np.array(sub_hist.Close)\n",
    "sharpe = net_ret / np.var(pct_record) + 1e-10"
   ]
  },
  {
   "cell_type": "code",
   "execution_count": 472,
   "metadata": {},
   "outputs": [
    {
     "data": {
      "text/plain": [
       "2.2714607662364252"
      ]
     },
     "execution_count": 472,
     "metadata": {},
     "output_type": "execute_result"
    }
   ],
   "source": [
    "ttl_ret"
   ]
  },
  {
   "cell_type": "code",
   "execution_count": 473,
   "metadata": {},
   "outputs": [
    {
     "data": {
      "text/plain": [
       "-0.4242982995287864"
      ]
     },
     "execution_count": 473,
     "metadata": {},
     "output_type": "execute_result"
    }
   ],
   "source": [
    "net_ret"
   ]
  },
  {
   "cell_type": "code",
   "execution_count": null,
   "metadata": {},
   "outputs": [],
   "source": []
  }
 ],
 "metadata": {
  "kernelspec": {
   "display_name": "Python 3",
   "language": "python",
   "name": "python3"
  },
  "language_info": {
   "codemirror_mode": {
    "name": "ipython",
    "version": 3
   },
   "file_extension": ".py",
   "mimetype": "text/x-python",
   "name": "python",
   "nbconvert_exporter": "python",
   "pygments_lexer": "ipython3",
   "version": "3.7.7"
  }
 },
 "nbformat": 4,
 "nbformat_minor": 2
}
