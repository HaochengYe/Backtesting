{
 "cells": [
  {
   "cell_type": "code",
   "execution_count": 136,
   "metadata": {},
   "outputs": [],
   "source": [
    "import os\n",
    "import pandas as pd\n",
    "import numpy as np\n",
    "import datetime as dt\n",
    "import matplotlib.pyplot as plt"
   ]
  },
  {
   "cell_type": "code",
   "execution_count": 2,
   "metadata": {},
   "outputs": [
    {
     "data": {
      "text/plain": [
       "'C:\\\\Users\\\\Andyy\\\\Desktop'"
      ]
     },
     "execution_count": 2,
     "metadata": {},
     "output_type": "execute_result"
    }
   ],
   "source": [
    "os.getcwd()"
   ]
  },
  {
   "cell_type": "code",
   "execution_count": 4,
   "metadata": {},
   "outputs": [],
   "source": [
    "dta = pd.read_csv(\"C:\\\\Users\\\\Andyy\\\\Downloads\\\\complete stock pr.csv\")"
   ]
  },
  {
   "cell_type": "code",
   "execution_count": 11,
   "metadata": {},
   "outputs": [],
   "source": [
    "dta.date = pd.to_datetime(dta.date, format='%Y%m%d')\n",
    "dta.PRC = abs(dta.PRC)\n",
    "dta.drop(['PERMNO', 'COMNAM', 'MMCNT', 'ASKHI', 'CUSIP', 'VOL', 'SHROUT', 'OPENPRC', 'NUMTRD'], axis=1, inplace=True)"
   ]
  },
  {
   "cell_type": "code",
   "execution_count": 52,
   "metadata": {},
   "outputs": [],
   "source": [
    "dta.dropna(inplace=True)"
   ]
  },
  {
   "cell_type": "code",
   "execution_count": 54,
   "metadata": {},
   "outputs": [],
   "source": [
    "table = pd.pivot_table(dta, values='PRC', index=['date'], columns=['TICKER'])\n",
    "pct_tab = table.pct_change()\n",
    "pct_tab.replace(0, np.nan, inplace=True)\n",
    "pct2_tab = (1+pct_tab).rolling(window=2).apply(np.prod, raw=True)-1\n",
    "pct5_tab = (1+pct_tab).rolling(window=5).apply(np.prod, raw=True)-1\n",
    "pct10_tab = (1+pct_tab).rolling(window=10).apply(np.prod, raw=True)-1\n",
    "pct20_tab = (1+pct_tab).rolling(window=20).apply(np.prod, raw=True)-1"
   ]
  },
  {
   "cell_type": "code",
   "execution_count": 130,
   "metadata": {},
   "outputs": [],
   "source": [
    "pct2_tab.replace(0, np.nan, inplace=True)\n",
    "pct5_tab.replace(0, np.nan, inplace=True)\n",
    "pct10_tab.replace(0, np.nan, inplace=True)\n",
    "pct20_tab.replace(0, np.nan, inplace=True)"
   ]
  },
  {
   "cell_type": "code",
   "execution_count": null,
   "metadata": {},
   "outputs": [],
   "source": []
  },
  {
   "cell_type": "code",
   "execution_count": null,
   "metadata": {},
   "outputs": [],
   "source": []
  },
  {
   "cell_type": "code",
   "execution_count": 147,
   "metadata": {},
   "outputs": [],
   "source": [
    "record_1 = []\n",
    "record_2 = []\n",
    "record_5 = []\n",
    "record_10 = []\n",
    "record_20 = []\n",
    "\n",
    "for i in range(3272-2):\n",
    "    short_list1 = pct_tab.iloc[i].sort_values(ascending=False)[:10].index.to_list()\n",
    "    short_list2 = pct2_tab.iloc[i].sort_values(ascending=False)[:10].index.to_list()\n",
    "    short_list5 = pct5_tab.iloc[i].sort_values(ascending=False)[:10].index.to_list()\n",
    "    short_list10 = pct10_tab.iloc[i].sort_values(ascending=False)[:10].index.to_list()\n",
    "    short_list20 = pct20_tab.iloc[i].sort_values(ascending=False)[:10].index.to_list()\n",
    "    \n",
    "    record_1.append(pct2_tab[short_list1].iloc[i+2].mean())\n",
    "    record_2.append(pct2_tab[short_list2].iloc[i+2].mean())\n",
    "    record_5.append(pct2_tab[short_list5].iloc[i+2].mean())\n",
    "    record_10.append(pct2_tab[short_list10].iloc[i+2].mean())\n",
    "    record_20.append(pct2_tab[short_list20].iloc[i+2].mean())"
   ]
  },
  {
   "cell_type": "code",
   "execution_count": 153,
   "metadata": {},
   "outputs": [],
   "source": [
    "from scipy import stats"
   ]
  },
  {
   "cell_type": "code",
   "execution_count": 167,
   "metadata": {},
   "outputs": [
    {
     "data": {
      "text/plain": [
       "DescribeResult(nobs=3270, minmax=(-0.573344944486192, 7.279983991517543), mean=-0.014567630559062556, variance=0.041208802460963825, skewness=21.19344617517167, kurtosis=646.6795048769586)"
      ]
     },
     "execution_count": 167,
     "metadata": {},
     "output_type": "execute_result"
    }
   ],
   "source": [
    "stats.describe(record_1)"
   ]
  },
  {
   "cell_type": "code",
   "execution_count": 168,
   "metadata": {},
   "outputs": [
    {
     "data": {
      "text/plain": [
       "<a list of 50 Patch objects>"
      ]
     },
     "execution_count": 168,
     "metadata": {},
     "output_type": "execute_result"
    },
    {
     "data": {
      "image/png": "[encoded data removed]",
      "text/plain": [
       "<Figure size 432x288 with 1 Axes>"
      ]
     },
     "metadata": {
      "needs_background": "light"
     },
     "output_type": "display_data"
    }
   ],
   "source": [
    "plt.hist(record_1, bins=50, range=(-0.6,1))[2]"
   ]
  },
  {
   "cell_type": "code",
   "execution_count": 169,
   "metadata": {},
   "outputs": [
    {
     "data": {
      "text/plain": [
       "DescribeResult(nobs=3270, minmax=(-0.5539337482214695, 8.28389761580546), mean=-0.016650199579270164, variance=0.040810104361504826, skewness=25.19045353465051, kurtosis=926.4325717306028)"
      ]
     },
     "execution_count": 169,
     "metadata": {},
     "output_type": "execute_result"
    }
   ],
   "source": [
    "stats.describe(record_2)"
   ]
  },
  {
   "cell_type": "code",
   "execution_count": 170,
   "metadata": {},
   "outputs": [
    {
     "data": {
      "text/plain": [
       "<a list of 50 Patch objects>"
      ]
     },
     "execution_count": 170,
     "metadata": {},
     "output_type": "execute_result"
    },
    {
     "data": {
      "image/png": "[encoded data removed]",
      "text/plain": [
       "<Figure size 432x288 with 1 Axes>"
      ]
     },
     "metadata": {
      "needs_background": "light"
     },
     "output_type": "display_data"
    }
   ],
   "source": [
    "plt.hist(record_2, bins=50, range=(-0.6,1))[2]"
   ]
  },
  {
   "cell_type": "code",
   "execution_count": 171,
   "metadata": {},
   "outputs": [
    {
     "data": {
      "text/plain": [
       "DescribeResult(nobs=3270, minmax=(-0.4218794434014685, 3.5714383247070143), mean=-0.016326284310147824, variance=0.012574802416357054, skewness=12.463976381417018, kurtosis=342.30486328772184)"
      ]
     },
     "execution_count": 171,
     "metadata": {},
     "output_type": "execute_result"
    }
   ],
   "source": [
    "stats.describe(record_5)"
   ]
  },
  {
   "cell_type": "code",
   "execution_count": 172,
   "metadata": {},
   "outputs": [
    {
     "data": {
      "text/plain": [
       "<a list of 50 Patch objects>"
      ]
     },
     "execution_count": 172,
     "metadata": {},
     "output_type": "execute_result"
    },
    {
     "data": {
      "image/png": "[encoded data removed]",
      "text/plain": [
       "<Figure size 432x288 with 1 Axes>"
      ]
     },
     "metadata": {
      "needs_background": "light"
     },
     "output_type": "display_data"
    }
   ],
   "source": [
    "plt.hist(record_5, bins=50, range=(-0.5,1))[2]"
   ]
  },
  {
   "cell_type": "code",
   "execution_count": 173,
   "metadata": {},
   "outputs": [
    {
     "data": {
      "text/plain": [
       "DescribeResult(nobs=3270, minmax=(-0.28288116577297334, 3.108252004306481), mean=-0.01004795510682393, variance=0.011782669715276495, skewness=14.973725907532025, kurtosis=398.4104300251406)"
      ]
     },
     "execution_count": 173,
     "metadata": {},
     "output_type": "execute_result"
    }
   ],
   "source": [
    "stats.describe(record_10)"
   ]
  },
  {
   "cell_type": "code",
   "execution_count": 174,
   "metadata": {},
   "outputs": [
    {
     "data": {
      "text/plain": [
       "<a list of 50 Patch objects>"
      ]
     },
     "execution_count": 174,
     "metadata": {},
     "output_type": "execute_result"
    },
    {
     "data": {
      "image/png": "[encoded data removed]",
      "text/plain": [
       "<Figure size 432x288 with 1 Axes>"
      ]
     },
     "metadata": {
      "needs_background": "light"
     },
     "output_type": "display_data"
    }
   ],
   "source": [
    "plt.hist(record_10, bins=50, range=(-0.3,1))[2]"
   ]
  },
  {
   "cell_type": "code",
   "execution_count": 175,
   "metadata": {},
   "outputs": [
    {
     "data": {
      "text/plain": [
       "DescribeResult(nobs=3270, minmax=(-0.22120120015617273, 3.189183537176583), mean=-0.005952547857888701, variance=0.011298911484839202, skewness=16.76658013572723, kurtosis=438.0441049787341)"
      ]
     },
     "execution_count": 175,
     "metadata": {},
     "output_type": "execute_result"
    }
   ],
   "source": [
    "stats.describe(record_20)"
   ]
  },
  {
   "cell_type": "code",
   "execution_count": 176,
   "metadata": {},
   "outputs": [
    {
     "data": {
      "text/plain": [
       "<a list of 50 Patch objects>"
      ]
     },
     "execution_count": 176,
     "metadata": {},
     "output_type": "execute_result"
    },
    {
     "data": {
      "image/png": "[encoded data removed]",
      "text/plain": [
       "<Figure size 432x288 with 1 Axes>"
      ]
     },
     "metadata": {
      "needs_background": "light"
     },
     "output_type": "display_data"
    }
   ],
   "source": [
    "plt.hist(record_20, bins=50, range=(-0.3,1))[2]"
   ]
  },
  {
   "cell_type": "code",
   "execution_count": null,
   "metadata": {},
   "outputs": [],
   "source": []
  }
 ],
 "metadata": {
  "kernelspec": {
   "display_name": "Python 3",
   "language": "python",
   "name": "python3"
  },
  "language_info": {
   "codemirror_mode": {
    "name": "ipython",
    "version": 3
   },
   "file_extension": ".py",
   "mimetype": "text/x-python",
   "name": "python",
   "nbconvert_exporter": "python",
   "pygments_lexer": "ipython3",
   "version": "3.7.7"
  }
 },
 "nbformat": 4,
 "nbformat_minor": 4
}
