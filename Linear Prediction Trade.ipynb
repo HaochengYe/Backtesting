{
 "metadata": {
  "language_info": {
   "codemirror_mode": {
    "name": "ipython",
    "version": 3
   },
   "file_extension": ".py",
   "mimetype": "text/x-python",
   "name": "python",
   "nbconvert_exporter": "python",
   "pygments_lexer": "ipython3",
   "version": "3.7.4-final"
  },
  "orig_nbformat": 2,
  "kernelspec": {
   "name": "Python 3.7.4 64-bit (conda)",
   "display_name": "Python 3.7.4 64-bit (conda)",
   "metadata": {
    "interpreter": {
     "hash": "7a6d91089636ceb79144559d125f13240294e23fe1ab18b5e7078f2814f8930e"
    }
   }
  }
 },
 "nbformat": 4,
 "nbformat_minor": 2,
 "cells": [
  {
   "cell_type": "code",
   "execution_count": 1,
   "metadata": {},
   "outputs": [],
   "source": [
    "import matplotlib.pyplot as plt\n",
    "\n",
    "import statsmodels.api as sm\n",
    "import pandas as pd\n",
    "import numpy as np\n",
    "from sklearn.linear_model import LassoCV\n",
    "from sklearn.linear_model import RidgeCV\n",
    "from sklearn.metrics import mean_squared_error, mean_absolute_error\n",
    "\n",
    "from statsmodels.tsa.stattools import coint\n",
    "import warnings\n",
    "import json\n",
    "\n",
    "from pandas.core.common import SettingWithCopyWarning"
   ]
  },
  {
   "cell_type": "code",
   "execution_count": 7,
   "metadata": {},
   "outputs": [],
   "source": [
    "def data_preprocess(dta):\n",
    "    dta['Date'] = pd.to_datetime(dta['Date'], format='%Y-%m-%d')\n",
    "    dta = dta.set_index(dta['Date'])\n",
    "    # NHLI not traded\n",
    "    dta.drop(['Date', 'NHLI'], axis=1, inplace=True)\n",
    "    dta.dropna(how='all', inplace=True)\n",
    "    for tick in dta.columns:\n",
    "        tick_series = dta[tick]\n",
    "        start_pos = tick_series.first_valid_index()\n",
    "        valid_series = tick_series.loc[start_pos:]\n",
    "        if valid_series.isna().sum() > 0:\n",
    "            dta.drop(tick, axis=1, inplace=True)\n",
    "\n",
    "    for tick in dta.columns:\n",
    "        dta[tick] = dta[tick].mask(dta[tick] == 0).ffill(downcast='infer')\n",
    "\n",
    "    return dta[dta.index >= dta['SPY'].first_valid_index()]\n",
    "\n",
    "\n",
    "def coint_group(tick, dta):\n",
    "    \"\"\"\n",
    "    Use cointegration test and correlation to find predictive stocks for target\n",
    "    :param tick: string for the target stock\n",
    "    :param dta: the data file (csv) that contains the tick\n",
    "    :return: a list of tickers that are in sp500 which predict the target\n",
    "    \"\"\"\n",
    "    y = dta['%s_LAG' % tick]\n",
    "    cointegrat = {}\n",
    "    correlat = {}\n",
    "\n",
    "    for i in dta.columns[:-2]:\n",
    "        x = dta[i]\n",
    "        score, pval, _ = coint(x, y, trend='ct')\n",
    "        corr = x.corr(y)\n",
    "\n",
    "        cointegrat[i] = pval\n",
    "        correlat[i] = corr\n",
    "\n",
    "    best_coint = sorted(cointegrat, key=cointegrat.get)[:50]\n",
    "    best_corr = sorted(correlat, key=correlat.get, reverse=True)[:50]\n",
    "\n",
    "    intersect = list(set(best_coint) & set(best_corr))\n",
    "    if len(intersect) > 0:\n",
    "        print(\"There are {} cointegrated stocks.\".format(len(intersect)))\n",
    "        return intersect\n",
    "    else:\n",
    "        print(\"Intersection is empty.\")\n",
    "        return best_coint[:10]"
   ]
  },
  {
   "cell_type": "code",
   "execution_count": 6,
   "metadata": {},
   "outputs": [],
   "source": [
    "file_name = ['Regression_Prediction_%s.csv' % i for i in range(0,3)]\n",
    "\n",
    "dta_list = []\n",
    "for file in file_name:\n",
    "    dta = pd.read_csv(file)\n",
    "    dta_list.append(dta)\n",
    "\n",
    "ttl = pd.concat(dta_list, axis=0)\n",
    "\n",
    "ttl.to_csv(\"Prediction Result/temp2.csv\")"
   ]
  },
  {
   "cell_type": "code",
   "execution_count": 8,
   "metadata": {},
   "outputs": [],
   "source": [
    "filter1 = ttl[(ttl['NetProfit'] > 0) & (ttl['GrossProfit'] > 0) & (ttl['Var'] > 0) & (ttl['PredRet'] > 0)]\n",
    "filter2 = filter1[(filter1.L1_MSE <= 0.02) & (filter1.L2_MSE <= 0.02) & (filter1.OLS_MSE <= 0.02)]\n",
    "filter3 = filter2[filter2.NetProfit > filter2.GrossProfit]\n",
    "\n",
    "filter3['Sharpe_2'] = filter3.GrossProfit / filter3.Var\n",
    "filter3['SP_ttl'] = filter3.Sharpe + filter3.Sharpe_2\n",
    "target_list = filter3.sort_values(['SP_ttl'], ascending=False).iloc[:10]['Unnamed: 0'].to_list()"
   ]
  },
  {
   "cell_type": "code",
   "execution_count": null,
   "metadata": {},
   "outputs": [],
   "source": []
  },
  {
   "cell_type": "code",
   "execution_count": 10,
   "metadata": {},
   "outputs": [
    {
     "output_type": "execute_result",
     "data": {
      "text/plain": [
       "    Unnamed: 0   PredRet  NetProfit  GrossProfit       Var     Sharpe  \\\n",
       "472        TSN  0.535680   0.296465     0.146985  0.006230  47.587590   \n",
       "119        AIF  0.117434   0.097487     0.095202  0.007884  12.365339   \n",
       "369       SCHL  0.396917   0.547324     0.118376  0.057413   9.533171   \n",
       "437        UVV  0.072678   0.348324     0.284973  0.058316   5.973017   \n",
       "90         OMC  0.245250   0.670001     0.389064  0.099979   6.701401   \n",
       "362        OGS  0.064473   0.555328     0.394581  0.096168   5.774560   \n",
       "204      DISCK  0.222351   0.541093     0.428254  0.113757   4.756569   \n",
       "83        BRKL  0.646902   0.287537     0.200196  0.061134   4.703386   \n",
       "471        ASB  0.550609   0.389051     0.208503  0.077075   5.047703   \n",
       "184       BCOR  0.458672   0.485714     0.452679  0.131089   3.705231   \n",
       "177       UMPQ  0.393361   0.727483     0.695920  0.221301   3.287299   \n",
       "435        AVA  0.139307   0.411616     0.395903  0.141755   2.903713   \n",
       "388       OFIX  0.689843   0.392577     0.180267  0.102535   3.828720   \n",
       "29        COLB  0.551996   0.458032     0.401954  0.179057   2.558021   \n",
       "214       XRAY  0.411165   0.378611     0.160935  0.122549   3.089465   \n",
       "133        NWL  0.069338   0.753856     0.145123  0.209150   3.604385   \n",
       "351       UBSI  0.202983   0.740012     0.483354  0.299688   2.469275   \n",
       "200         PM  0.490822   0.349632     0.257133  0.166757   2.096652   \n",
       "175        CNO  0.073010   0.247334     0.170645  0.121315   2.038777   \n",
       "83         NWN  0.256553   0.368918     0.236818  0.176150   2.094338   \n",
       "147       AEGN  0.332609   0.462823     0.297414  0.257453   1.797698   \n",
       "84         TDS  0.350572   0.477439     0.212110  0.290685   1.642464   \n",
       "362       PEAK  0.250404   0.176531     0.161734  0.156035   1.131355   \n",
       "38         XRX  0.230024   0.320696     0.207404  0.264493   1.212492   \n",
       "141        IBM  0.122122   0.279202     0.226356  0.253544   1.101198   \n",
       "92         SJI  0.296598   0.321776     0.113751  0.252991   1.271890   \n",
       "27        WELL  0.356723   0.154128     0.051642  0.173219   0.889787   \n",
       "294       DAKT  0.814221   0.317966     0.001260  0.275527   1.154029   \n",
       "342        EQR  0.265972   0.075715     0.046755  0.225041   0.336451   \n",
       "\n",
       "       L1_MSE    L2_MSE   OLS_MSE   Sharpe_2     SP_ttl  \n",
       "472  0.018279  0.018117  0.018282  23.593648  71.181238  \n",
       "119  0.014561  0.014382  0.014565  12.075527  24.440867  \n",
       "369  0.012685  0.016635  0.016716   2.061847  11.595018  \n",
       "437  0.015261  0.015235  0.015261   4.886676  10.859693  \n",
       "90   0.015215  0.014495  0.014487   3.891446  10.592847  \n",
       "362  0.017626  0.017582  0.017626   4.103039   9.877599  \n",
       "204  0.018521  0.018701  0.018703   3.764641   8.521211  \n",
       "83   0.016249  0.016247  0.016249   3.274712   7.978098  \n",
       "471  0.017005  0.018051  0.018083   2.705206   7.752909  \n",
       "184  0.019349  0.019591  0.019592   3.453221   7.158452  \n",
       "177  0.017176  0.017557  0.017557   3.144676   6.431975  \n",
       "435  0.013183  0.013188  0.013182   2.792869   5.696582  \n",
       "388  0.014176  0.018854  0.018908   1.758109   5.586829  \n",
       "29   0.019638  0.019638  0.019638   2.244835   4.802856  \n",
       "214  0.016383  0.016383  0.016383   1.313233   4.402698  \n",
       "133  0.017626  0.019733  0.019753   0.693870   4.298255  \n",
       "351  0.018087  0.018079  0.018087   1.612855   4.082130  \n",
       "200  0.016149  0.016439  0.016439   1.541960   3.638612  \n",
       "175  0.018981  0.019664  0.019673   1.406630   3.445407  \n",
       "83   0.017290  0.017285  0.017290   1.344410   3.438748  \n",
       "147  0.017805  0.018825  0.018831   1.155214   2.952912  \n",
       "84   0.015461  0.017012  0.017011   0.729689   2.372153  \n",
       "362  0.016890  0.019492  0.019757   1.036524   2.167880  \n",
       "38   0.015945  0.018456  0.018537   0.784157   1.996648  \n",
       "141  0.017161  0.019222  0.019691   0.892768   1.993967  \n",
       "92   0.018202  0.018207  0.018201   0.449627   1.721517  \n",
       "27   0.017238  0.017880  0.017934   0.298129   1.187916  \n",
       "294  0.015403  0.019722  0.019746   0.004573   1.158602  \n",
       "342  0.014015  0.018140  0.018646   0.207763   0.544214  "
      ],
      "text/html": "<div>\n<style scoped>\n    .dataframe tbody tr th:only-of-type {\n        vertical-align: middle;\n    }\n\n    .dataframe tbody tr th {\n        vertical-align: top;\n    }\n\n    .dataframe thead th {\n        text-align: right;\n    }\n</style>\n<table border=\"1\" class=\"dataframe\">\n  <thead>\n    <tr style=\"text-align: right;\">\n      <th></th>\n      <th>Unnamed: 0</th>\n      <th>PredRet</th>\n      <th>NetProfit</th>\n      <th>GrossProfit</th>\n      <th>Var</th>\n      <th>Sharpe</th>\n      <th>L1_MSE</th>\n      <th>L2_MSE</th>\n      <th>OLS_MSE</th>\n      <th>Sharpe_2</th>\n      <th>SP_ttl</th>\n    </tr>\n  </thead>\n  <tbody>\n    <tr>\n      <th>472</th>\n      <td>TSN</td>\n      <td>0.535680</td>\n      <td>0.296465</td>\n      <td>0.146985</td>\n      <td>0.006230</td>\n      <td>47.587590</td>\n      <td>0.018279</td>\n      <td>0.018117</td>\n      <td>0.018282</td>\n      <td>23.593648</td>\n      <td>71.181238</td>\n    </tr>\n    <tr>\n      <th>119</th>\n      <td>AIF</td>\n      <td>0.117434</td>\n      <td>0.097487</td>\n      <td>0.095202</td>\n      <td>0.007884</td>\n      <td>12.365339</td>\n      <td>0.014561</td>\n      <td>0.014382</td>\n      <td>0.014565</td>\n      <td>12.075527</td>\n      <td>24.440867</td>\n    </tr>\n    <tr>\n      <th>369</th>\n      <td>SCHL</td>\n      <td>0.396917</td>\n      <td>0.547324</td>\n      <td>0.118376</td>\n      <td>0.057413</td>\n      <td>9.533171</td>\n      <td>0.012685</td>\n      <td>0.016635</td>\n      <td>0.016716</td>\n      <td>2.061847</td>\n      <td>11.595018</td>\n    </tr>\n    <tr>\n      <th>437</th>\n      <td>UVV</td>\n      <td>0.072678</td>\n      <td>0.348324</td>\n      <td>0.284973</td>\n      <td>0.058316</td>\n      <td>5.973017</td>\n      <td>0.015261</td>\n      <td>0.015235</td>\n      <td>0.015261</td>\n      <td>4.886676</td>\n      <td>10.859693</td>\n    </tr>\n    <tr>\n      <th>90</th>\n      <td>OMC</td>\n      <td>0.245250</td>\n      <td>0.670001</td>\n      <td>0.389064</td>\n      <td>0.099979</td>\n      <td>6.701401</td>\n      <td>0.015215</td>\n      <td>0.014495</td>\n      <td>0.014487</td>\n      <td>3.891446</td>\n      <td>10.592847</td>\n    </tr>\n    <tr>\n      <th>362</th>\n      <td>OGS</td>\n      <td>0.064473</td>\n      <td>0.555328</td>\n      <td>0.394581</td>\n      <td>0.096168</td>\n      <td>5.774560</td>\n      <td>0.017626</td>\n      <td>0.017582</td>\n      <td>0.017626</td>\n      <td>4.103039</td>\n      <td>9.877599</td>\n    </tr>\n    <tr>\n      <th>204</th>\n      <td>DISCK</td>\n      <td>0.222351</td>\n      <td>0.541093</td>\n      <td>0.428254</td>\n      <td>0.113757</td>\n      <td>4.756569</td>\n      <td>0.018521</td>\n      <td>0.018701</td>\n      <td>0.018703</td>\n      <td>3.764641</td>\n      <td>8.521211</td>\n    </tr>\n    <tr>\n      <th>83</th>\n      <td>BRKL</td>\n      <td>0.646902</td>\n      <td>0.287537</td>\n      <td>0.200196</td>\n      <td>0.061134</td>\n      <td>4.703386</td>\n      <td>0.016249</td>\n      <td>0.016247</td>\n      <td>0.016249</td>\n      <td>3.274712</td>\n      <td>7.978098</td>\n    </tr>\n    <tr>\n      <th>471</th>\n      <td>ASB</td>\n      <td>0.550609</td>\n      <td>0.389051</td>\n      <td>0.208503</td>\n      <td>0.077075</td>\n      <td>5.047703</td>\n      <td>0.017005</td>\n      <td>0.018051</td>\n      <td>0.018083</td>\n      <td>2.705206</td>\n      <td>7.752909</td>\n    </tr>\n    <tr>\n      <th>184</th>\n      <td>BCOR</td>\n      <td>0.458672</td>\n      <td>0.485714</td>\n      <td>0.452679</td>\n      <td>0.131089</td>\n      <td>3.705231</td>\n      <td>0.019349</td>\n      <td>0.019591</td>\n      <td>0.019592</td>\n      <td>3.453221</td>\n      <td>7.158452</td>\n    </tr>\n    <tr>\n      <th>177</th>\n      <td>UMPQ</td>\n      <td>0.393361</td>\n      <td>0.727483</td>\n      <td>0.695920</td>\n      <td>0.221301</td>\n      <td>3.287299</td>\n      <td>0.017176</td>\n      <td>0.017557</td>\n      <td>0.017557</td>\n      <td>3.144676</td>\n      <td>6.431975</td>\n    </tr>\n    <tr>\n      <th>435</th>\n      <td>AVA</td>\n      <td>0.139307</td>\n      <td>0.411616</td>\n      <td>0.395903</td>\n      <td>0.141755</td>\n      <td>2.903713</td>\n      <td>0.013183</td>\n      <td>0.013188</td>\n      <td>0.013182</td>\n      <td>2.792869</td>\n      <td>5.696582</td>\n    </tr>\n    <tr>\n      <th>388</th>\n      <td>OFIX</td>\n      <td>0.689843</td>\n      <td>0.392577</td>\n      <td>0.180267</td>\n      <td>0.102535</td>\n      <td>3.828720</td>\n      <td>0.014176</td>\n      <td>0.018854</td>\n      <td>0.018908</td>\n      <td>1.758109</td>\n      <td>5.586829</td>\n    </tr>\n    <tr>\n      <th>29</th>\n      <td>COLB</td>\n      <td>0.551996</td>\n      <td>0.458032</td>\n      <td>0.401954</td>\n      <td>0.179057</td>\n      <td>2.558021</td>\n      <td>0.019638</td>\n      <td>0.019638</td>\n      <td>0.019638</td>\n      <td>2.244835</td>\n      <td>4.802856</td>\n    </tr>\n    <tr>\n      <th>214</th>\n      <td>XRAY</td>\n      <td>0.411165</td>\n      <td>0.378611</td>\n      <td>0.160935</td>\n      <td>0.122549</td>\n      <td>3.089465</td>\n      <td>0.016383</td>\n      <td>0.016383</td>\n      <td>0.016383</td>\n      <td>1.313233</td>\n      <td>4.402698</td>\n    </tr>\n    <tr>\n      <th>133</th>\n      <td>NWL</td>\n      <td>0.069338</td>\n      <td>0.753856</td>\n      <td>0.145123</td>\n      <td>0.209150</td>\n      <td>3.604385</td>\n      <td>0.017626</td>\n      <td>0.019733</td>\n      <td>0.019753</td>\n      <td>0.693870</td>\n      <td>4.298255</td>\n    </tr>\n    <tr>\n      <th>351</th>\n      <td>UBSI</td>\n      <td>0.202983</td>\n      <td>0.740012</td>\n      <td>0.483354</td>\n      <td>0.299688</td>\n      <td>2.469275</td>\n      <td>0.018087</td>\n      <td>0.018079</td>\n      <td>0.018087</td>\n      <td>1.612855</td>\n      <td>4.082130</td>\n    </tr>\n    <tr>\n      <th>200</th>\n      <td>PM</td>\n      <td>0.490822</td>\n      <td>0.349632</td>\n      <td>0.257133</td>\n      <td>0.166757</td>\n      <td>2.096652</td>\n      <td>0.016149</td>\n      <td>0.016439</td>\n      <td>0.016439</td>\n      <td>1.541960</td>\n      <td>3.638612</td>\n    </tr>\n    <tr>\n      <th>175</th>\n      <td>CNO</td>\n      <td>0.073010</td>\n      <td>0.247334</td>\n      <td>0.170645</td>\n      <td>0.121315</td>\n      <td>2.038777</td>\n      <td>0.018981</td>\n      <td>0.019664</td>\n      <td>0.019673</td>\n      <td>1.406630</td>\n      <td>3.445407</td>\n    </tr>\n    <tr>\n      <th>83</th>\n      <td>NWN</td>\n      <td>0.256553</td>\n      <td>0.368918</td>\n      <td>0.236818</td>\n      <td>0.176150</td>\n      <td>2.094338</td>\n      <td>0.017290</td>\n      <td>0.017285</td>\n      <td>0.017290</td>\n      <td>1.344410</td>\n      <td>3.438748</td>\n    </tr>\n    <tr>\n      <th>147</th>\n      <td>AEGN</td>\n      <td>0.332609</td>\n      <td>0.462823</td>\n      <td>0.297414</td>\n      <td>0.257453</td>\n      <td>1.797698</td>\n      <td>0.017805</td>\n      <td>0.018825</td>\n      <td>0.018831</td>\n      <td>1.155214</td>\n      <td>2.952912</td>\n    </tr>\n    <tr>\n      <th>84</th>\n      <td>TDS</td>\n      <td>0.350572</td>\n      <td>0.477439</td>\n      <td>0.212110</td>\n      <td>0.290685</td>\n      <td>1.642464</td>\n      <td>0.015461</td>\n      <td>0.017012</td>\n      <td>0.017011</td>\n      <td>0.729689</td>\n      <td>2.372153</td>\n    </tr>\n    <tr>\n      <th>362</th>\n      <td>PEAK</td>\n      <td>0.250404</td>\n      <td>0.176531</td>\n      <td>0.161734</td>\n      <td>0.156035</td>\n      <td>1.131355</td>\n      <td>0.016890</td>\n      <td>0.019492</td>\n      <td>0.019757</td>\n      <td>1.036524</td>\n      <td>2.167880</td>\n    </tr>\n    <tr>\n      <th>38</th>\n      <td>XRX</td>\n      <td>0.230024</td>\n      <td>0.320696</td>\n      <td>0.207404</td>\n      <td>0.264493</td>\n      <td>1.212492</td>\n      <td>0.015945</td>\n      <td>0.018456</td>\n      <td>0.018537</td>\n      <td>0.784157</td>\n      <td>1.996648</td>\n    </tr>\n    <tr>\n      <th>141</th>\n      <td>IBM</td>\n      <td>0.122122</td>\n      <td>0.279202</td>\n      <td>0.226356</td>\n      <td>0.253544</td>\n      <td>1.101198</td>\n      <td>0.017161</td>\n      <td>0.019222</td>\n      <td>0.019691</td>\n      <td>0.892768</td>\n      <td>1.993967</td>\n    </tr>\n    <tr>\n      <th>92</th>\n      <td>SJI</td>\n      <td>0.296598</td>\n      <td>0.321776</td>\n      <td>0.113751</td>\n      <td>0.252991</td>\n      <td>1.271890</td>\n      <td>0.018202</td>\n      <td>0.018207</td>\n      <td>0.018201</td>\n      <td>0.449627</td>\n      <td>1.721517</td>\n    </tr>\n    <tr>\n      <th>27</th>\n      <td>WELL</td>\n      <td>0.356723</td>\n      <td>0.154128</td>\n      <td>0.051642</td>\n      <td>0.173219</td>\n      <td>0.889787</td>\n      <td>0.017238</td>\n      <td>0.017880</td>\n      <td>0.017934</td>\n      <td>0.298129</td>\n      <td>1.187916</td>\n    </tr>\n    <tr>\n      <th>294</th>\n      <td>DAKT</td>\n      <td>0.814221</td>\n      <td>0.317966</td>\n      <td>0.001260</td>\n      <td>0.275527</td>\n      <td>1.154029</td>\n      <td>0.015403</td>\n      <td>0.019722</td>\n      <td>0.019746</td>\n      <td>0.004573</td>\n      <td>1.158602</td>\n    </tr>\n    <tr>\n      <th>342</th>\n      <td>EQR</td>\n      <td>0.265972</td>\n      <td>0.075715</td>\n      <td>0.046755</td>\n      <td>0.225041</td>\n      <td>0.336451</td>\n      <td>0.014015</td>\n      <td>0.018140</td>\n      <td>0.018646</td>\n      <td>0.207763</td>\n      <td>0.544214</td>\n    </tr>\n  </tbody>\n</table>\n</div>"
     },
     "metadata": {},
     "execution_count": 10
    }
   ],
   "source": [
    "filter3.sort_values(['SP_ttl'], ascending=False)"
   ]
  },
  {
   "cell_type": "code",
   "execution_count": 5,
   "metadata": {},
   "outputs": [],
   "source": [
    "data = pd.read_csv('broader_stock.csv')\n",
    "data = data_preprocess(data)\n",
    "\n",
    "result = {}"
   ]
  },
  {
   "cell_type": "code",
   "execution_count": 6,
   "metadata": {
    "tags": []
   },
   "outputs": [
    {
     "output_type": "stream",
     "name": "stdout",
     "text": [
      "There are 6 cointegrated stocks.\n",
      "There are 7 cointegrated stocks.\n",
      "There are 15 cointegrated stocks.\n",
      "There are 7 cointegrated stocks.\n",
      "There are 17 cointegrated stocks.\n",
      "There are 9 cointegrated stocks.\n",
      "There are 6 cointegrated stocks.\n",
      "There are 13 cointegrated stocks.\n",
      "There are 9 cointegrated stocks.\n",
      "There are 11 cointegrated stocks.\n"
     ]
    }
   ],
   "source": [
    "for tick in target_list:\n",
    "    original_series = data[tick]\n",
    "\n",
    "    if tick in data.columns:\n",
    "        original_data = pd.concat([data.drop([tick], axis=1), original_series], axis=1)\n",
    "        original_data = original_data[original_data[tick].notnull()].dropna(axis=1)\n",
    "    else:\n",
    "        original_data = pd.concat([data, original_series], axis=1)\n",
    "        original_data = original_data[original_data[tick].notnull()].dropna(axis=1)\n",
    "\n",
    "    if original_data.index[-1] != data.index[-1]:\n",
    "        continue\n",
    "\n",
    "    original_data['%s_LAG' % tick] = original_data[tick].shift(-120)\n",
    "    model_data = original_data.dropna()\n",
    "\n",
    "    arr = model_data[tick]\n",
    "\n",
    "    coint_corr = coint_group(tick, model_data)\n",
    "    result[tick] = coint_corr"
   ]
  },
  {
   "cell_type": "code",
   "execution_count": 8,
   "metadata": {},
   "outputs": [],
   "source": [
    "json_file = json.dumps(result)\n",
    "f = open(\"Prediction Result/dict.json\", \"w\")\n",
    "f.write(json_file)\n",
    "f.close()"
   ]
  },
  {
   "source": [
    "# Actual Directional Prediction"
   ],
   "cell_type": "markdown",
   "metadata": {}
  },
  {
   "cell_type": "code",
   "execution_count": 22,
   "metadata": {},
   "outputs": [],
   "source": [
    "test = {1:'a',2:'b',-1:'c'}"
   ]
  },
  {
   "cell_type": "code",
   "execution_count": 24,
   "metadata": {},
   "outputs": [
    {
     "output_type": "execute_result",
     "data": {
      "text/plain": [
       "2"
      ]
     },
     "metadata": {},
     "execution_count": 24
    }
   ],
   "source": [
    "np.argmin(list(test.keys()))"
   ]
  },
  {
   "cell_type": "code",
   "execution_count": 21,
   "metadata": {},
   "outputs": [
    {
     "output_type": "execute_result",
     "data": {
      "text/plain": [
       "1"
      ]
     },
     "metadata": {},
     "execution_count": 21
    }
   ],
   "source": [
    "list(test.keys())[0]"
   ]
  },
  {
   "cell_type": "code",
   "execution_count": null,
   "metadata": {},
   "outputs": [],
   "source": []
  },
  {
   "cell_type": "code",
   "execution_count": 4,
   "metadata": {},
   "outputs": [],
   "source": [
    "with open(\"Prediction Result/dict.json\") as json_file:\n",
    "    result = json.load(json_file)"
   ]
  },
  {
   "cell_type": "code",
   "execution_count": 8,
   "metadata": {},
   "outputs": [],
   "source": [
    "data = pd.read_csv('broader_stock.csv')\n",
    "data = data_preprocess(data)\n",
    "\n",
    "alphas = np.linspace(0.001, 1000, 300)"
   ]
  },
  {
   "cell_type": "code",
   "execution_count": 9,
   "metadata": {},
   "outputs": [],
   "source": [
    "ttl = pd.read_csv(\"Prediction Result/temp1.csv\")\n",
    "ttl.set_index(['Unnamed: 0.1'], inplace=True)"
   ]
  },
  {
   "cell_type": "code",
   "execution_count": 10,
   "metadata": {},
   "outputs": [],
   "source": [
    "trade_prediction = {}"
   ]
  },
  {
   "cell_type": "code",
   "execution_count": 1,
   "metadata": {},
   "outputs": [
    {
     "output_type": "error",
     "ename": "NameError",
     "evalue": "name 'result' is not defined",
     "traceback": [
      "\u001b[1;31m---------------------------------------------------------------------------\u001b[0m",
      "\u001b[1;31mNameError\u001b[0m                                 Traceback (most recent call last)",
      "\u001b[1;32m<ipython-input-1-08c690a41b27>\u001b[0m in \u001b[0;36m<module>\u001b[1;34m\u001b[0m\n\u001b[1;32m----> 1\u001b[1;33m \u001b[1;32mfor\u001b[0m \u001b[0mkey\u001b[0m \u001b[1;32min\u001b[0m \u001b[0mresult\u001b[0m\u001b[1;33m:\u001b[0m\u001b[1;33m\u001b[0m\u001b[1;33m\u001b[0m\u001b[0m\n\u001b[0m\u001b[0;32m      2\u001b[0m     \u001b[0mmodel_type\u001b[0m \u001b[1;33m=\u001b[0m \u001b[0mnp\u001b[0m\u001b[1;33m.\u001b[0m\u001b[0margmin\u001b[0m\u001b[1;33m(\u001b[0m\u001b[0mttl\u001b[0m\u001b[1;33m.\u001b[0m\u001b[0mloc\u001b[0m\u001b[1;33m[\u001b[0m\u001b[0mkey\u001b[0m\u001b[1;33m]\u001b[0m\u001b[1;33m[\u001b[0m\u001b[1;33m[\u001b[0m\u001b[1;34m'L1_MSE'\u001b[0m\u001b[1;33m,\u001b[0m \u001b[1;34m'L2_MSE'\u001b[0m\u001b[1;33m,\u001b[0m \u001b[1;34m'OLS_MSE'\u001b[0m\u001b[1;33m]\u001b[0m\u001b[1;33m]\u001b[0m\u001b[1;33m)\u001b[0m\u001b[1;33m\u001b[0m\u001b[1;33m\u001b[0m\u001b[0m\n\u001b[0;32m      3\u001b[0m     \u001b[0my\u001b[0m \u001b[1;33m=\u001b[0m \u001b[0mdata\u001b[0m\u001b[1;33m[\u001b[0m\u001b[0mkey\u001b[0m\u001b[1;33m]\u001b[0m\u001b[1;33m.\u001b[0m\u001b[0mshift\u001b[0m\u001b[1;33m(\u001b[0m\u001b[1;33m-\u001b[0m\u001b[1;36m120\u001b[0m\u001b[1;33m)\u001b[0m\u001b[1;33m.\u001b[0m\u001b[0mdropna\u001b[0m\u001b[1;33m(\u001b[0m\u001b[1;33m)\u001b[0m\u001b[1;33m.\u001b[0m\u001b[0mvalues\u001b[0m\u001b[1;33m\u001b[0m\u001b[1;33m\u001b[0m\u001b[0m\n\u001b[0;32m      4\u001b[0m     \u001b[0mn\u001b[0m \u001b[1;33m=\u001b[0m \u001b[0my\u001b[0m\u001b[1;33m.\u001b[0m\u001b[0mshape\u001b[0m\u001b[1;33m[\u001b[0m\u001b[1;36m0\u001b[0m\u001b[1;33m]\u001b[0m\u001b[1;33m\u001b[0m\u001b[1;33m\u001b[0m\u001b[0m\n\u001b[0;32m      5\u001b[0m     \u001b[0mx\u001b[0m \u001b[1;33m=\u001b[0m \u001b[0mdata\u001b[0m\u001b[1;33m[\u001b[0m\u001b[0mresult\u001b[0m\u001b[1;33m[\u001b[0m\u001b[0mkey\u001b[0m\u001b[1;33m]\u001b[0m\u001b[1;33m]\u001b[0m\u001b[1;33m.\u001b[0m\u001b[0miloc\u001b[0m\u001b[1;33m[\u001b[0m\u001b[1;33m-\u001b[0m\u001b[0mn\u001b[0m\u001b[1;33m-\u001b[0m\u001b[1;36m120\u001b[0m\u001b[1;33m:\u001b[0m\u001b[1;33m-\u001b[0m\u001b[1;36m120\u001b[0m\u001b[1;33m]\u001b[0m\u001b[1;33m.\u001b[0m\u001b[0mvalues\u001b[0m\u001b[1;33m\u001b[0m\u001b[1;33m\u001b[0m\u001b[0m\n",
      "\u001b[1;31mNameError\u001b[0m: name 'result' is not defined"
     ]
    }
   ],
   "source": [
    "for key in result:\n",
    "    model_type = np.argmin(ttl.loc[key][['L1_MSE', 'L2_MSE', 'OLS_MSE']])\n",
    "    y = data[key].shift(-120).dropna().values\n",
    "    n = y.shape[0]\n",
    "    x = data[result[key]].iloc[-n-120:-120].values\n",
    "    x_test = data[result[key]].iloc[-1].values\n",
    "    if model_type == 0:\n",
    "        model = LassoCV(alphas=alphas, max_iter=5000, fit_intercept=True, cv=10, n_jobs=-1).fit(x, y)\n",
    "        pred = model.predict(x_test.reshape(1,-1))\n",
    "    elif model_type == 1:\n",
    "        model = RidgeCV(alphas=alphas, fit_intercept=True, cv=10).fit(x, y)\n",
    "        pred = model.predict(x_test.reshape(1,-1))\n",
    "    elif model_type == 2:\n",
    "        model = sm.OLS(y, sm.add_constant(x)).fit()\n",
    "        pred = model.predict(sm.add_constant(x_test))\n",
    "    \n",
    "    trade_prediction[key] = pred[0]"
   ]
  },
  {
   "cell_type": "code",
   "execution_count": 14,
   "metadata": {},
   "outputs": [
    {
     "output_type": "execute_result",
     "data": {
      "text/plain": [
       "{'BHE': 25.935497641926574,\n",
       " 'MSTR': 178.064517178035,\n",
       " 'FCF': 8.019808447394992,\n",
       " 'KAMN': 52.28936159046932,\n",
       " 'STBA': 26.434043804371317,\n",
       " 'BMY': 67.38971115600006,\n",
       " 'POST': 142.50049475081406,\n",
       " 'VLY': 8.06837320105426,\n",
       " 'SWX': 73.23632871815617,\n",
       " 'AIV': 39.56509122636441}"
      ]
     },
     "metadata": {},
     "execution_count": 14
    }
   ],
   "source": [
    "trade_prediction"
   ]
  },
  {
   "cell_type": "code",
   "execution_count": null,
   "metadata": {},
   "outputs": [],
   "source": []
  }
 ]
}